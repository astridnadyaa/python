{
 "cells": [
  {
   "cell_type": "code",
   "execution_count": 3,
   "metadata": {},
   "outputs": [
    {
     "data": {
      "text/plain": [
       "[('Jenny', 'Elphonse'),\n",
       " ('Alexus', 'Dr. Doggy DDS'),\n",
       " ('Sam', 'Carter'),\n",
       " ('Grace', 'Ralph')]"
      ]
     },
     "execution_count": 3,
     "metadata": {},
     "output_type": "execute_result"
    }
   ],
   "source": [
    "names = ['Jenny', 'Alexus', 'Sam', 'Grace']\n",
    "dogs_names = ['Elphonse', 'Dr. Doggy DDS', 'Carter', 'Ralph']\n",
    "\n",
    "names_and_dogs_names = zip(names, dogs_names)\n",
    "list(names_and_dogs_names)"
   ]
  },
  {
   "cell_type": "code",
   "execution_count": 11,
   "metadata": {},
   "outputs": [
    {
     "data": {
      "text/plain": [
       "['Tulips', 'Sunflower']"
      ]
     },
     "execution_count": 11,
     "metadata": {},
     "output_type": "execute_result"
    }
   ],
   "source": [
    "orders = []\n",
    "\n",
    "orders.append('Tulips')\n",
    "orders\n",
    "\n",
    "orders.append('Sunflower')\n",
    "orders"
   ]
  },
  {
   "cell_type": "code",
   "execution_count": 12,
   "metadata": {},
   "outputs": [
    {
     "data": {
      "text/plain": [
       "['Tulips', 'Sunflower', 'Rose']"
      ]
     },
     "execution_count": 12,
     "metadata": {},
     "output_type": "execute_result"
    }
   ],
   "source": [
    "new = orders + ['Rose']\n",
    "new"
   ]
  },
  {
   "cell_type": "code",
   "execution_count": 17,
   "metadata": {},
   "outputs": [
    {
     "name": "stdout",
     "output_type": "stream",
     "text": [
      "[1, 2, 3, 4, 5, 6, 7, 8]\n",
      "[1, 3, 5, 7, 9, 11, 13, 15, 17, 19]\n"
     ]
    }
   ],
   "source": [
    "range_1 = range(1,9)\n",
    "print(list(range_1))\n",
    "\n",
    "range_2 = range(1,20,2)\n",
    "print(list(range_2))"
   ]
  },
  {
   "cell_type": "markdown",
   "metadata": {},
   "source": [
    "---"
   ]
  },
  {
   "cell_type": "markdown",
   "metadata": {},
   "source": [
    "Maria is entering customer data for her web design business. You’re going to help her organize her data.\n",
    "\n",
    "Start by turning this list of customer first names into a list called first_names. Make sure to enter the names in this order:\n",
    "- Ainsley\n",
    "- Ben\n",
    "- Chani\n",
    "- Depak"
   ]
  },
  {
   "cell_type": "code",
   "execution_count": 20,
   "metadata": {},
   "outputs": [],
   "source": [
    "first_names = ['Ainsley', \"Ben\", 'Chani', 'Depak']"
   ]
  },
  {
   "cell_type": "code",
   "execution_count": 21,
   "metadata": {},
   "outputs": [
    {
     "data": {
      "text/plain": [
       "[42]"
      ]
     },
     "execution_count": 21,
     "metadata": {},
     "output_type": "execute_result"
    }
   ],
   "source": [
    "age = []\n",
    "age.append(42)\n",
    "age"
   ]
  },
  {
   "cell_type": "code",
   "execution_count": 24,
   "metadata": {},
   "outputs": [
    {
     "data": {
      "text/plain": [
       "[32, 41, 29, 42]"
      ]
     },
     "execution_count": 24,
     "metadata": {},
     "output_type": "execute_result"
    }
   ],
   "source": [
    "all_ages = [32,41,29]\n",
    "all_ages = all_ages + age\n",
    "all_ages"
   ]
  },
  {
   "cell_type": "code",
   "execution_count": 29,
   "metadata": {},
   "outputs": [
    {
     "data": {
      "text/plain": [
       "[('Ainsley', 32), ('Ben', 41), ('Chani', 29), ('Depak', 42)]"
      ]
     },
     "execution_count": 29,
     "metadata": {},
     "output_type": "execute_result"
    }
   ],
   "source": [
    "name_and_age = zip(first_names, all_ages)\n",
    "list(name_and_age)"
   ]
  },
  {
   "cell_type": "markdown",
   "metadata": {},
   "source": [
    "---"
   ]
  },
  {
   "cell_type": "code",
   "execution_count": 30,
   "metadata": {},
   "outputs": [],
   "source": [
    "inventory = ['twin bed', 'twin bed', 'headboard', 'queen bed', 'king bed', 'dresser', 'dresser', 'table', 'table', \n",
    "             'nightstand', 'nightstand', 'king bed', 'king bed', 'twin bed', 'twin bed', 'sheets', 'sheets', 'pillow', \n",
    "             'pillow']"
   ]
  },
  {
   "cell_type": "code",
   "execution_count": 31,
   "metadata": {},
   "outputs": [
    {
     "data": {
      "text/plain": [
       "19"
      ]
     },
     "execution_count": 31,
     "metadata": {},
     "output_type": "execute_result"
    }
   ],
   "source": [
    "# How many items are in the warehouse?\n",
    "len(inventory)"
   ]
  },
  {
   "cell_type": "code",
   "execution_count": 32,
   "metadata": {},
   "outputs": [
    {
     "data": {
      "text/plain": [
       "'twin bed'"
      ]
     },
     "execution_count": 32,
     "metadata": {},
     "output_type": "execute_result"
    }
   ],
   "source": [
    "# first element in inventory\n",
    "inventory[0]"
   ]
  },
  {
   "cell_type": "code",
   "execution_count": 33,
   "metadata": {},
   "outputs": [
    {
     "data": {
      "text/plain": [
       "'pillow'"
      ]
     },
     "execution_count": 33,
     "metadata": {},
     "output_type": "execute_result"
    }
   ],
   "source": [
    "# last item from inventory\n",
    "inventory[-1]"
   ]
  },
  {
   "cell_type": "code",
   "execution_count": 34,
   "metadata": {},
   "outputs": [
    {
     "data": {
      "text/plain": [
       "['twin bed', 'twin bed', 'headboard']"
      ]
     },
     "execution_count": 34,
     "metadata": {},
     "output_type": "execute_result"
    }
   ],
   "source": [
    "# first threee items from inventory\n",
    "inventory[:3]"
   ]
  },
  {
   "cell_type": "code",
   "execution_count": 37,
   "metadata": {},
   "outputs": [
    {
     "data": {
      "text/plain": [
       "4"
      ]
     },
     "execution_count": 37,
     "metadata": {},
     "output_type": "execute_result"
    }
   ],
   "source": [
    "# How many 'twin bed's are in inventory?\n",
    "inventory.count('twin bed')"
   ]
  },
  {
   "cell_type": "markdown",
   "metadata": {},
   "source": [
    "---"
   ]
  },
  {
   "cell_type": "markdown",
   "metadata": {},
   "source": [
    "We are going to calculate the length of a list and then append the value to the end of the list. \n",
    "\n",
    "Create a function called append_size that has one parameter named lst.\n",
    "\n",
    "The function should append the size of lst (inclusive) to the end of lst. The function should then return this new list.\n",
    "\n",
    "For example, if lst was [23, 42, 108], the function should return [23, 42, 108, 3] because the size of lst was originally 3."
   ]
  },
  {
   "cell_type": "code",
   "execution_count": 12,
   "metadata": {},
   "outputs": [],
   "source": [
    "def append_size(lst):\n",
    "    lst.append(len(lst))\n",
    "    return lst"
   ]
  },
  {
   "cell_type": "code",
   "execution_count": 13,
   "metadata": {},
   "outputs": [
    {
     "data": {
      "text/plain": [
       "[23, 42, 108, 3]"
      ]
     },
     "execution_count": 13,
     "metadata": {},
     "output_type": "execute_result"
    }
   ],
   "source": [
    "append_size([23, 42, 108])"
   ]
  },
  {
   "cell_type": "markdown",
   "metadata": {},
   "source": [
    "---"
   ]
  },
  {
   "cell_type": "markdown",
   "metadata": {},
   "source": [
    "Let’s create a function that calculates the sum of the last two elements of a list and appends it to the end. After doing so, it will repeat this process two more times and return the resulting list. You can choose to use a loop or manually use three lines. \n",
    "\n",
    "Write a function named append_sum that has one parameter — a list named named lst.\n",
    "\n",
    "The function should add the last two elements of lst together and append the result to lst. It should do this process three times and then return lst.\n",
    "\n",
    "For example, if lst started as [1, 1, 2], the final result should be [1, 1, 2, 3, 5, 8]."
   ]
  },
  {
   "cell_type": "code",
   "execution_count": 31,
   "metadata": {},
   "outputs": [],
   "source": [
    "def append_sum(lst):\n",
    "    lst.append(lst[-1] + lst[-2])\n",
    "    lst.append(lst[-1] + lst[-2])\n",
    "    lst.append(lst[-1] + lst[-2])\n",
    "    return lst"
   ]
  },
  {
   "cell_type": "code",
   "execution_count": 32,
   "metadata": {},
   "outputs": [
    {
     "data": {
      "text/plain": [
       "[1, 1, 2, 3, 5, 8]"
      ]
     },
     "execution_count": 32,
     "metadata": {},
     "output_type": "execute_result"
    }
   ],
   "source": [
    "append_sum([1, 1, 2])"
   ]
  },
  {
   "cell_type": "markdown",
   "metadata": {},
   "source": [
    "---"
   ]
  },
  {
   "cell_type": "markdown",
   "metadata": {},
   "source": [
    "Let’s say we are working with two conveyor belts that contain items represented by a numerical ID. If one conveyor belt contains more items than the other, then we need to return the ID of the last item on that belt. In the case where they have the same number of items, return the last item from the first conveyor belt. In our code, we can represent the belts using lists.\n",
    "\n",
    "Write a function named larger_list that has two parameters named lst1 and lst2.\n",
    "\n",
    "The function should return the last element of the list that contains more elements. If both lists are the same size, then return the last element of lst1."
   ]
  },
  {
   "cell_type": "code",
   "execution_count": 39,
   "metadata": {},
   "outputs": [],
   "source": [
    "def larger_list(lst1, lst2):\n",
    "    if len(lst1) >= len(lst2):\n",
    "        return lst1[-1]\n",
    "    else:\n",
    "        return lst2[-1]"
   ]
  },
  {
   "cell_type": "code",
   "execution_count": 40,
   "metadata": {},
   "outputs": [
    {
     "data": {
      "text/plain": [
       "5"
      ]
     },
     "execution_count": 40,
     "metadata": {},
     "output_type": "execute_result"
    }
   ],
   "source": [
    "larger_list([4, 10, 2, 5], [-10, 2, 5, 10])"
   ]
  },
  {
   "cell_type": "markdown",
   "metadata": {},
   "source": [
    "---"
   ]
  },
  {
   "cell_type": "markdown",
   "metadata": {},
   "source": [
    "Our factory produces a variety of different flavored snacks and we want to check the number of instances of a certain type. We have a conveyor belt full of different types of snacks represented by different numbers. Our function will accept a list of numbers (representing the type of snack), a number for the second parameter (the type of snack we are looking for), and another number as the third parameter (the maximum number of that type of snack on the conveyor belt). The function will return True if the snack we are searching for appears more times than we provided as our third parameter.\n",
    "\n",
    "Create a function named more_than_n that has three parameters named lst, item, and n.\n",
    "\n",
    "The function should return True if item appears in the list more than n times. The function should return False otherwise."
   ]
  },
  {
   "cell_type": "code",
   "execution_count": 43,
   "metadata": {},
   "outputs": [],
   "source": [
    "def more_than_n(lst, item, n):\n",
    "    if lst.count(item) > n:\n",
    "        return True\n",
    "    else:\n",
    "        return False"
   ]
  },
  {
   "cell_type": "code",
   "execution_count": 44,
   "metadata": {},
   "outputs": [
    {
     "data": {
      "text/plain": [
       "True"
      ]
     },
     "execution_count": 44,
     "metadata": {},
     "output_type": "execute_result"
    }
   ],
   "source": [
    "more_than_n([2, 4, 6, 2, 3, 2, 1, 2], 2, 3)"
   ]
  },
  {
   "cell_type": "markdown",
   "metadata": {},
   "source": [
    "---"
   ]
  },
  {
   "cell_type": "markdown",
   "metadata": {},
   "source": [
    "Create a function that combines two different lists together and then sorts them. To do this we can combine the lists with an operation and then sort using a function call. \n",
    "\n",
    "Write a function named combine_sort that has two parameters named lst1 and lst2.\n",
    "\n",
    "The function should combine these two lists into one new list and sort the result. Return the new sorted list."
   ]
  },
  {
   "cell_type": "code",
   "execution_count": 63,
   "metadata": {},
   "outputs": [],
   "source": [
    "def combine_sort(lst1, lst2):\n",
    "    lst = lst1 + lst2\n",
    "    sorted_list = sorted(lst)\n",
    "    return sorted_list"
   ]
  },
  {
   "cell_type": "code",
   "execution_count": 64,
   "metadata": {},
   "outputs": [
    {
     "data": {
      "text/plain": [
       "[-10, 2, 2, 4, 5, 5, 10, 10]"
      ]
     },
     "execution_count": 64,
     "metadata": {},
     "output_type": "execute_result"
    }
   ],
   "source": [
    "combine_sort([4, 10, 2, 5], [-10, 2, 5, 10])"
   ]
  },
  {
   "cell_type": "markdown",
   "metadata": {},
   "source": [
    "---"
   ]
  },
  {
   "cell_type": "markdown",
   "metadata": {},
   "source": [
    "A list of numbers up to 100 in increments of 3 starting from a number that is passed to the function as an input parameter.\n",
    "\n",
    "Create a function called every_three_nums that has one parameter named start.\n",
    "\n",
    "The function should return a list of every third number between start and 100 (inclusive). For example, every_three_nums(91) should return the list [91, 94, 97, 100]. If start is greater than 100, the function should return an empty list."
   ]
  },
  {
   "cell_type": "code",
   "execution_count": 93,
   "metadata": {},
   "outputs": [],
   "source": [
    "def every_three_nums(start):\n",
    "    return list(range(start, 101, 3))"
   ]
  },
  {
   "cell_type": "code",
   "execution_count": 94,
   "metadata": {},
   "outputs": [
    {
     "data": {
      "text/plain": [
       "[91, 94, 97, 100]"
      ]
     },
     "execution_count": 94,
     "metadata": {},
     "output_type": "execute_result"
    }
   ],
   "source": [
    "every_three_nums(91)"
   ]
  },
  {
   "cell_type": "markdown",
   "metadata": {},
   "source": [
    "---"
   ]
  },
  {
   "cell_type": "markdown",
   "metadata": {},
   "source": [
    "Our next function will remove all elements from a list with an index within a certain range. The function will accept a list, a starting index, and an ending index. All elements with an index between the starting and ending index should be removed from the list.\n",
    "\n",
    "Create a function named remove_middle which has three parameters named lst, start, and end.\n",
    "\n",
    "The function should return a list where all elements in lst with an index between start and end (inclusive) have been removed."
   ]
  },
  {
   "cell_type": "code",
   "execution_count": 30,
   "metadata": {},
   "outputs": [],
   "source": [
    "def remove_middle(lst, start, end):\n",
    "    return lst[:start] + lst[end+1:]"
   ]
  },
  {
   "cell_type": "code",
   "execution_count": 31,
   "metadata": {},
   "outputs": [
    {
     "data": {
      "text/plain": [
       "[4, 23, 42]"
      ]
     },
     "execution_count": 31,
     "metadata": {},
     "output_type": "execute_result"
    }
   ],
   "source": [
    "remove_middle([4, 8, 15, 16, 23, 42], 1, 3)"
   ]
  },
  {
   "cell_type": "markdown",
   "metadata": {},
   "source": [
    "---"
   ]
  },
  {
   "cell_type": "markdown",
   "metadata": {},
   "source": [
    "We have a conveyor belt of items where each item is represented by a different number. We want to know, out of two items, which one shows up more on our belt. To solve this, we can use a function with three parameters. One parameter for the list of items, another for the first item we are comparing, and another for the second item. \n",
    "\n",
    "Create a function named more_frequent_item that has three parameters named lst, item1, and item2.\n",
    "\n",
    "Return either item1 or item2 depending on which item appears more often in lst.\n",
    "\n",
    "If the two items appear the same number of times, return item1."
   ]
  },
  {
   "cell_type": "code",
   "execution_count": 32,
   "metadata": {},
   "outputs": [],
   "source": [
    "def more_frequent_item(lst, item1, item2):\n",
    "    if lst.count(item1) >= lst.count(item2):\n",
    "        return item1\n",
    "    else:\n",
    "        return item2"
   ]
  },
  {
   "cell_type": "code",
   "execution_count": 33,
   "metadata": {},
   "outputs": [
    {
     "data": {
      "text/plain": [
       "3"
      ]
     },
     "execution_count": 33,
     "metadata": {},
     "output_type": "execute_result"
    }
   ],
   "source": [
    "more_frequent_item([2, 3, 3, 2, 3, 2, 3, 2, 3], 2, 3)"
   ]
  },
  {
   "cell_type": "markdown",
   "metadata": {},
   "source": [
    "---"
   ]
  },
  {
   "cell_type": "markdown",
   "metadata": {},
   "source": [
    "Our next function will double a value at a given position. We will provide a list and an index to double. This will create a new list by replacing the value at the index provided with double the original value. If the index is invalid then we should return the original list. \n",
    "\n",
    "Create a function named double_index that has two parameters: a list named lst and a single number named index.\n",
    "\n",
    "The function should return a new list where all elements are the same as in lst except for the element at index. The element at index should be double the value of the element at index of the original lst.\n",
    "\n",
    "If index is not a valid index, the function should return the original list."
   ]
  },
  {
   "cell_type": "code",
   "execution_count": 38,
   "metadata": {},
   "outputs": [],
   "source": [
    "def double_index(lst, index):\n",
    "    # Checks to see if index is too big\n",
    "    if index >= len(lst):\n",
    "        return lst\n",
    "    else:\n",
    "        # Gets the original list up to index\n",
    "        new_lst = lst[0:index]\n",
    "    # Adds double the value at index to the new list \n",
    "    new_lst.append(lst[index]*2)\n",
    "    #  Adds the rest of the original list\n",
    "    new_lst = new_lst + lst[index+1:]\n",
    "    return new_lst"
   ]
  },
  {
   "cell_type": "code",
   "execution_count": 39,
   "metadata": {},
   "outputs": [
    {
     "data": {
      "text/plain": [
       "[3, 8, -20, 12]"
      ]
     },
     "execution_count": 39,
     "metadata": {},
     "output_type": "execute_result"
    }
   ],
   "source": [
    "double_index([3, 8, -10, 12], 2)"
   ]
  },
  {
   "cell_type": "markdown",
   "metadata": {},
   "source": [
    "---"
   ]
  },
  {
   "cell_type": "markdown",
   "metadata": {},
   "source": [
    "We are going to create a function that calculates the median of a list of values. This means that it gets the exact middle value in the case of an odd number of elements. If there is an even number of elements, it returns the average of the middle two elements. \n",
    "\n",
    "Create a function called middle_element that has one parameter named lst.\n",
    "\n",
    "If there are an odd number of elements in lst, the function should return the middle element. If there are an even number of elements, the function should return the average of the middle two elements."
   ]
  },
  {
   "cell_type": "code",
   "execution_count": 62,
   "metadata": {},
   "outputs": [],
   "source": [
    "def middle_element(lst):\n",
    "    if len(lst)%2 == 0:\n",
    "        sum = lst[int(len(lst)/2)] + lst[int(len(lst)/2) - 1]\n",
    "        return sum/2\n",
    "    else:\n",
    "        return lst[int(len(lst)/2)]"
   ]
  },
  {
   "cell_type": "code",
   "execution_count": 63,
   "metadata": {},
   "outputs": [
    {
     "data": {
      "text/plain": [
       "-7.0"
      ]
     },
     "execution_count": 63,
     "metadata": {},
     "output_type": "execute_result"
    }
   ],
   "source": [
    "middle_element([5, 2, -10, -4, 4, 5])"
   ]
  }
 ],
 "metadata": {
  "kernelspec": {
   "display_name": "Python 3",
   "language": "python",
   "name": "python3"
  },
  "language_info": {
   "codemirror_mode": {
    "name": "ipython",
    "version": 3
   },
   "file_extension": ".py",
   "mimetype": "text/x-python",
   "name": "python",
   "nbconvert_exporter": "python",
   "pygments_lexer": "ipython3",
   "version": "3.8.3"
  }
 },
 "nbformat": 4,
 "nbformat_minor": 4
}
