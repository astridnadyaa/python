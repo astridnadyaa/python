{
 "cells": [
  {
   "cell_type": "code",
   "execution_count": 1,
   "metadata": {},
   "outputs": [
    {
     "name": "stdout",
     "output_type": "stream",
     "text": [
      "french_bulldog\n",
      "dalmatian\n",
      "shihtzu\n",
      "poodle\n",
      "collie\n"
     ]
    }
   ],
   "source": [
    "dog_breeds = ['french_bulldog', 'dalmatian', 'shihtzu', 'poodle', 'collie']\n",
    "\n",
    "for breed in dog_breeds:\n",
    "    print(breed)"
   ]
  },
  {
   "cell_type": "code",
   "execution_count": 2,
   "metadata": {},
   "outputs": [
    {
     "name": "stdout",
     "output_type": "stream",
     "text": [
      "Settlers of Catan\n",
      "Carcassone\n",
      "Power Grid\n",
      "Agricola\n",
      "Scrabble\n"
     ]
    }
   ],
   "source": [
    "board_games = ['Settlers of Catan', 'Carcassone', 'Power Grid', 'Agricola', 'Scrabble']\n",
    "\n",
    "for game in board_games:\n",
    "    print(game)"
   ]
  },
  {
   "cell_type": "code",
   "execution_count": 3,
   "metadata": {},
   "outputs": [
    {
     "name": "stdout",
     "output_type": "stream",
     "text": [
      "football\n",
      "football - American\n",
      "hockey\n",
      "baseball\n",
      "cricket\n"
     ]
    }
   ],
   "source": [
    "sport_games = ['football', 'football - American', 'hockey', 'baseball', 'cricket']\n",
    "\n",
    "for game in sport_games:\n",
    "    print(game)"
   ]
  },
  {
   "cell_type": "code",
   "execution_count": 4,
   "metadata": {},
   "outputs": [
    {
     "name": "stdout",
     "output_type": "stream",
     "text": [
      "Alex\n",
      "Briana\n",
      "Cheri\n",
      "Daniele\n"
     ]
    }
   ],
   "source": [
    "students_period_A = [\"Alex\", \"Briana\", \"Cheri\", \"Daniele\"]\n",
    "students_period_B = [\"Dora\", \"Minerva\", \"Alexa\", \"Obie\"]\n",
    "\n",
    "for student in students_period_A:\n",
    "    students_period_B.append(student)\n",
    "    print(student)"
   ]
  },
  {
   "cell_type": "code",
   "execution_count": 5,
   "metadata": {},
   "outputs": [
    {
     "name": "stdout",
     "output_type": "stream",
     "text": [
      "Checking the sale list!\n",
      "blue_shirt\n",
      "striped_socks\n",
      "knit_dress\n",
      "End of search!\n"
     ]
    }
   ],
   "source": [
    "items_on_sale = [\"blue_shirt\", \"striped_socks\", \"knit_dress\", \"red_headband\", \"dinosaur_onesie\"]\n",
    " \n",
    "print(\"Checking the sale list!\")\n",
    "\n",
    "for item in items_on_sale:\n",
    "    print(item)\n",
    "    if item == \"knit_dress\":\n",
    "        break\n",
    "        \n",
    "print(\"End of search!\")"
   ]
  },
  {
   "cell_type": "code",
   "execution_count": 6,
   "metadata": {},
   "outputs": [
    {
     "name": "stdout",
     "output_type": "stream",
     "text": [
      "french_bulldog\n",
      "dalmatian\n",
      "They have the dog I want!\n"
     ]
    }
   ],
   "source": [
    "dog_breeds_available_for_adoption = ['french_bulldog', 'dalmatian', 'shihtzu', 'poodle', 'collie']\n",
    "dog_breed_I_want = 'dalmatian'\n",
    "\n",
    "for dog in dog_breeds_available_for_adoption:\n",
    "    print(dog)\n",
    "    if dog == dog_breed_I_want:\n",
    "        print(\"They have the dog I want!\")\n",
    "        break"
   ]
  },
  {
   "cell_type": "code",
   "execution_count": 7,
   "metadata": {},
   "outputs": [
    {
     "name": "stdout",
     "output_type": "stream",
     "text": [
      "1\n",
      "2\n",
      "4\n",
      "5\n",
      "2\n"
     ]
    }
   ],
   "source": [
    "big_number_list = [1, 2, -1, 4, -5, 5, 2, -9]\n",
    " \n",
    "for i in big_number_list:\n",
    "    if i < 0:\n",
    "        continue\n",
    "    print(i)"
   ]
  },
  {
   "cell_type": "code",
   "execution_count": 8,
   "metadata": {},
   "outputs": [
    {
     "name": "stdout",
     "output_type": "stream",
     "text": [
      "38\n",
      "34\n",
      "26\n",
      "21\n",
      "67\n",
      "41\n"
     ]
    }
   ],
   "source": [
    "ages = [12, 38, 34, 26, 21, 19, 67, 41, 17]\n",
    "\n",
    "for age in ages:\n",
    "    if age < 21:\n",
    "        continue\n",
    "    print(age)"
   ]
  },
  {
   "cell_type": "code",
   "execution_count": 9,
   "metadata": {},
   "outputs": [
    {
     "name": "stdout",
     "output_type": "stream",
     "text": [
      "bulldog\n",
      "dalmation\n",
      "shihtzu\n",
      "poodle\n",
      "collie\n"
     ]
    }
   ],
   "source": [
    "dog_breeds = ['bulldog', 'dalmation', 'shihtzu', 'poodle', 'collie']\n",
    " \n",
    "index = 0\n",
    "while index < len(dog_breeds):\n",
    "    print(dog_breeds[index])\n",
    "    index += 1"
   ]
  },
  {
   "cell_type": "code",
   "execution_count": 10,
   "metadata": {},
   "outputs": [
    {
     "name": "stdout",
     "output_type": "stream",
     "text": [
      "['Loki', 'Arius', 'Obie', 'Alexa', 'Minerva', 'Dora']\n"
     ]
    }
   ],
   "source": [
    "all_students = [\"Alex\", \"Briana\", \"Cheri\", \"Daniele\", \"Dora\", \"Minerva\", \"Alexa\", \"Obie\", \"Arius\", \"Loki\"]\n",
    "students_in_poetry = []\n",
    "\n",
    "while len(students_in_poetry) < 6:\n",
    "    student = all_students.pop()\n",
    "    students_in_poetry.append(student)\n",
    "\n",
    "print(students_in_poetry)"
   ]
  },
  {
   "cell_type": "code",
   "execution_count": 11,
   "metadata": {},
   "outputs": [
    {
     "name": "stdout",
     "output_type": "stream",
     "text": [
      "Ava\n",
      "Samantha\n",
      "James\n",
      "Lucille\n",
      "Zed\n",
      "Edgar\n",
      "Gabriel\n"
     ]
    }
   ],
   "source": [
    "project_teams = [[\"Ava\", \"Samantha\", \"James\"], [\"Lucille\", \"Zed\"], [\"Edgar\", \"Gabriel\"]]\n",
    "\n",
    "for team in project_teams:\n",
    "    for student in team:\n",
    "        print(student)"
   ]
  },
  {
   "cell_type": "code",
   "execution_count": 12,
   "metadata": {},
   "outputs": [
    {
     "name": "stdout",
     "output_type": "stream",
     "text": [
      "[12, 17, 22]\n",
      "[2, 10, 3]\n",
      "[5, 12, 13]\n",
      "96\n"
     ]
    }
   ],
   "source": [
    "sales_data = [[12, 17, 22], [2, 10, 3], [5, 12, 13]]\n",
    "scoops_sold = 0\n",
    "\n",
    "for location in sales_data:\n",
    "    print(location)\n",
    "    for element in location:\n",
    "        scoops_sold += element\n",
    "\n",
    "print(scoops_sold)"
   ]
  },
  {
   "cell_type": "code",
   "execution_count": 13,
   "metadata": {},
   "outputs": [
    {
     "name": "stdout",
     "output_type": "stream",
     "text": [
      "['@coolguy35', '@kewldawg54', '@matchamom']\n"
     ]
    }
   ],
   "source": [
    "words = [\"@coolguy35\", \"#nofilter\", \"@kewldawg54\", \"reply\", \"timestamp\", \"@matchamom\", \"follow\", \"#updog\"]\n",
    "usernames = []\n",
    " \n",
    "for word in words:\n",
    "    if word[0] == '@':\n",
    "        usernames.append(word)\n",
    "        \n",
    "print(usernames)"
   ]
  },
  {
   "cell_type": "code",
   "execution_count": 14,
   "metadata": {},
   "outputs": [
    {
     "name": "stdout",
     "output_type": "stream",
     "text": [
      "['@coolguy35', '#nofilter', '@kewldawg54', 'reply', 'timestamp', '@matchamom', 'follow', '#updog']\n"
     ]
    }
   ],
   "source": [
    "usernames = [word for word in words]\n",
    "print(usernames)"
   ]
  },
  {
   "cell_type": "code",
   "execution_count": 15,
   "metadata": {},
   "outputs": [
    {
     "name": "stdout",
     "output_type": "stream",
     "text": [
      "['@coolguy35', '@kewldawg54', '@matchamom']\n"
     ]
    }
   ],
   "source": [
    "usernames = [word for word in words if word[0] == '@']\n",
    "print(usernames)"
   ]
  },
  {
   "cell_type": "code",
   "execution_count": 16,
   "metadata": {},
   "outputs": [
    {
     "name": "stdout",
     "output_type": "stream",
     "text": [
      "['@coolguy35 please follow me!', '@kewldawg54 please follow me!', '@matchamom please follow me!']\n"
     ]
    }
   ],
   "source": [
    "usernames = [word for word in words if word[0] == '@']\n",
    "messages = [user + \" please follow me!\" for user in usernames]\n",
    "print(messages)"
   ]
  },
  {
   "cell_type": "code",
   "execution_count": 17,
   "metadata": {},
   "outputs": [
    {
     "name": "stdout",
     "output_type": "stream",
     "text": [
      "[164, 170, 163, 163]\n"
     ]
    }
   ],
   "source": [
    "heights = [161, 164, 156, 144, 158, 170, 163, 163, 157]\n",
    "can_ride_coaster = [height for height in heights if height > 161]\n",
    "print(can_ride_coaster)"
   ]
  },
  {
   "cell_type": "code",
   "execution_count": 18,
   "metadata": {},
   "outputs": [
    {
     "data": {
      "text/plain": [
       "[292, 134, 122, 275, 175, 201, 197]"
      ]
     },
     "execution_count": 18,
     "metadata": {},
     "output_type": "execute_result"
    }
   ],
   "source": [
    "my_upvotes = [192, 34, 22, 175, 75, 101, 97]\n",
    "\n",
    "updated_upvotes = [vote_value + 100 for vote_value in my_upvotes]\n",
    "updated_upvotes"
   ]
  },
  {
   "cell_type": "code",
   "execution_count": 19,
   "metadata": {},
   "outputs": [
    {
     "name": "stdout",
     "output_type": "stream",
     "text": [
      "[32.0, 50.0, 59.0, 89.6, 23.0, 80.6, 37.4]\n"
     ]
    }
   ],
   "source": [
    "celsius = [0, 10, 15, 32, -5, 27, 3]\n",
    "\n",
    "fahrenheit = [temp * 9/5 + 32 for temp in celsius]\n",
    "print(fahrenheit)"
   ]
  },
  {
   "cell_type": "code",
   "execution_count": 20,
   "metadata": {},
   "outputs": [
    {
     "name": "stdout",
     "output_type": "stream",
     "text": [
      "[0, 1, 4, 9, 16, 25, 36, 49, 64, 81]\n",
      "[0, 1, 8, 27, 64, 125, 216, 343, 512, 729]\n"
     ]
    }
   ],
   "source": [
    "single_digits = range(10)\n",
    "squares = []\n",
    "cubes= []\n",
    "\n",
    "for i in single_digits:\n",
    "    squares.append(i**2)\n",
    "    cubes.append(i**3)\n",
    "\n",
    "print(squares)\n",
    "print(cubes)"
   ]
  },
  {
   "cell_type": "code",
   "execution_count": 21,
   "metadata": {},
   "outputs": [
    {
     "name": "stdout",
     "output_type": "stream",
     "text": [
      "5\n",
      "5\n",
      "5\n"
     ]
    }
   ],
   "source": [
    "for i in range(3):\n",
    "    print(5)"
   ]
  },
  {
   "cell_type": "code",
   "execution_count": 22,
   "metadata": {},
   "outputs": [
    {
     "name": "stdout",
     "output_type": "stream",
     "text": [
      "coffee\n",
      "tea\n",
      "water\n",
      "juice\n",
      "soda\n"
     ]
    }
   ],
   "source": [
    "drink_choices = [\"coffee\", \"tea\", \"water\", \"juice\", \"soda\"]\n",
    "\n",
    "for drink in drink_choices:\n",
    "    print(drink)"
   ]
  },
  {
   "cell_type": "code",
   "execution_count": 23,
   "metadata": {},
   "outputs": [
    {
     "name": "stdout",
     "output_type": "stream",
     "text": [
      "1\n",
      "2\n",
      "3\n",
      "4\n",
      "5\n",
      "6\n",
      "7\n",
      "8\n",
      "9\n",
      "10\n"
     ]
    }
   ],
   "source": [
    "i = 1\n",
    "\n",
    "while i <= 10:\n",
    "    print(i)\n",
    "    i += 1"
   ]
  },
  {
   "cell_type": "code",
   "execution_count": 24,
   "metadata": {},
   "outputs": [
    {
     "data": {
      "text/plain": [
       "[10, 8, 20]"
      ]
     },
     "execution_count": 24,
     "metadata": {},
     "output_type": "execute_result"
    }
   ],
   "source": [
    "my_list = [5, 10, -2, 8, 20]\n",
    "\n",
    "desired_list = [i for i in my_list if i > 5]\n",
    "desired_list"
   ]
  },
  {
   "cell_type": "code",
   "execution_count": 25,
   "metadata": {},
   "outputs": [
    {
     "name": "stdout",
     "output_type": "stream",
     "text": [
      "1\n",
      "1\n"
     ]
    }
   ],
   "source": [
    "numbers = [1, 1, 2, 3]\n",
    "\n",
    "for number in numbers:\n",
    "    if number % 2 == 0:\n",
    "        break\n",
    "    print(number)"
   ]
  },
  {
   "cell_type": "code",
   "execution_count": 26,
   "metadata": {},
   "outputs": [
    {
     "name": "stdout",
     "output_type": "stream",
     "text": [
      "1\n",
      "1\n",
      "3\n"
     ]
    }
   ],
   "source": [
    "numbers = [1, 1, 2, 3]\n",
    "for number in numbers:\n",
    "    if number % 2 == 0:\n",
    "        continue\n",
    "    print(number)"
   ]
  },
  {
   "cell_type": "code",
   "execution_count": 27,
   "metadata": {},
   "outputs": [
    {
     "data": {
      "text/plain": [
       "[-1, 0, 1, 2, 3]"
      ]
     },
     "execution_count": 27,
     "metadata": {},
     "output_type": "execute_result"
    }
   ],
   "source": [
    "desired_list = [i-1 for i in range(5)]\n",
    "desired_list"
   ]
  },
  {
   "cell_type": "code",
   "execution_count": 28,
   "metadata": {},
   "outputs": [
    {
     "name": "stdout",
     "output_type": "stream",
     "text": [
      "hello!\n",
      "hello!\n",
      "hello!\n",
      "hello!\n"
     ]
    }
   ],
   "source": [
    "numbers = [2, 4, 6, 8]\n",
    "\n",
    "for number in numbers:\n",
    "    print(\"hello!\")"
   ]
  },
  {
   "cell_type": "code",
   "execution_count": 29,
   "metadata": {},
   "outputs": [
    {
     "name": "stdout",
     "output_type": "stream",
     "text": [
      "[0, 1, 4, 9, 16, 25, 36, 49, 64, 81, 100]\n"
     ]
    }
   ],
   "source": [
    "nums = range(11)\n",
    "\n",
    "squares = [i**2 for i in nums]\n",
    "print(squares)"
   ]
  },
  {
   "cell_type": "code",
   "execution_count": 30,
   "metadata": {},
   "outputs": [
    {
     "name": "stdout",
     "output_type": "stream",
     "text": [
      "List comprehension of doubling numbers: [8, 16, 30, 32, 46, 84]\n",
      "List comprehension of adding ten to each number: [14, 18, 25, 26, 33, 52]\n",
      "List comprehension of dividing the numbers by two: [2.0, 4.0, 7.5, 8.0, 11.5, 21.0]\n",
      "List comprehension of parity to each numbers: [0, 0, 1, 0, 1, 0]\n"
     ]
    }
   ],
   "source": [
    "nums = [4, 8, 15, 16, 23, 42]\n",
    "\n",
    "double_nums = [i*2 for i in nums]\n",
    "print(\"List comprehension of doubling numbers:\", double_nums)\n",
    "\n",
    "add_ten = [i+10 for i in nums]\n",
    "print(\"List comprehension of adding ten to each number:\", add_ten)\n",
    "\n",
    "divide_by_two = [i/2 for i in nums]\n",
    "print(\"List comprehension of dividing the numbers by two:\", divide_by_two)\n",
    "\n",
    "parity = [i%2 for i in nums]\n",
    "print(\"List comprehension of parity to each numbers:\", parity)"
   ]
  },
  {
   "cell_type": "code",
   "execution_count": 31,
   "metadata": {},
   "outputs": [
    {
     "name": "stdout",
     "output_type": "stream",
     "text": [
      "List comprehension of greeting from names list: ['Hello, Elaine', 'Hello, George', 'Hello, Jerry', 'Hello, Cosmo']\n",
      "List comprehension of first character from names list: ['E', 'G', 'J', 'C']\n",
      "List comprehension of the size of names list: [6, 6, 5, 5]\n",
      "List comprehension of name is Jerry or not: [False, False, True, False]\n"
     ]
    }
   ],
   "source": [
    "names = [\"Elaine\", \"George\", \"Jerry\", \"Cosmo\"]\n",
    "\n",
    "greetings = [\"Hello, \" + name for name in names]\n",
    "print(\"List comprehension of greeting from names list:\", greetings)\n",
    "\n",
    "first_character = [name[0] for name in names]\n",
    "print(\"List comprehension of first character from names list:\", first_character)\n",
    "\n",
    "lengths = [len(name) for name in names]\n",
    "print(\"List comprehension of the size of names list:\", lengths)\n",
    "\n",
    "is_Jerry = [name == \"Jerry\" for name in names]\n",
    "print(\"List comprehension of name is Jerry or not:\", is_Jerry)"
   ]
  },
  {
   "cell_type": "code",
   "execution_count": 32,
   "metadata": {},
   "outputs": [
    {
     "name": "stdout",
     "output_type": "stream",
     "text": [
      "[False, True, False]\n"
     ]
    }
   ],
   "source": [
    "booleans = [True, False, True]\n",
    "\n",
    "opposite = [not bool for bool in booleans]\n",
    "print(opposite)"
   ]
  },
  {
   "cell_type": "code",
   "execution_count": 33,
   "metadata": {},
   "outputs": [
    {
     "name": "stdout",
     "output_type": "stream",
     "text": [
      "[True, False, True, True, False]\n"
     ]
    }
   ],
   "source": [
    "nums = [5, -10, 40, 20, 0]\n",
    "\n",
    "greater_than_two = [i > 2 for i in nums]\n",
    "print(greater_than_two)"
   ]
  },
  {
   "cell_type": "code",
   "execution_count": 34,
   "metadata": {},
   "outputs": [
    {
     "name": "stdout",
     "output_type": "stream",
     "text": [
      "List comprehension of adding number in each sub-list: [12, 31, 65]\n",
      "List comprehension of producting number in each sub-list: [32, 240, 966]\n",
      "List comprehension of the number is greater than other in each sub-list: [False, True, False]\n",
      "List comprehension of first element in each sub-list: [4, 16, 23]\n"
     ]
    }
   ],
   "source": [
    "nested_list = [[4, 8], [16, 15], [23, 42]]\n",
    "\n",
    "add_each_list = [list1 + list2 for (list1, list2) in nested_list]\n",
    "print(\"List comprehension of adding number in each sub-list:\", add_each_list)\n",
    "\n",
    "product_each_list = [list1 * list2 for (list1, list2) in nested_list]\n",
    "print(\"List comprehension of producting number in each sub-list:\", product_each_list)\n",
    "\n",
    "greater_than = [list[0] > list[1] for list in nested_list]\n",
    "print(\"List comprehension of the number is greater than other in each sub-list:\", greater_than)\n",
    "\n",
    "first_only = [list[0] for list in nested_list]\n",
    "print(\"List comprehension of first element in each sub-list:\", first_only)"
   ]
  },
  {
   "cell_type": "code",
   "execution_count": 35,
   "metadata": {},
   "outputs": [
    {
     "name": "stdout",
     "output_type": "stream",
     "text": [
      "Combined list of list 1 and list 2: [(1.0, 4.0), (2.0, 5.0), (3.0, 6.0)]\n",
      "List comprehension of adding the number in each sub-list: [5.0, 7.0, 9.0]\n",
      "List comprehension of dividing second number to first number is each sub-list [4.0, 2.5, 2.0]\n"
     ]
    }
   ],
   "source": [
    "list1 = [1.0, 2.0, 3.0]\n",
    "list2 = [4.0, 5.0, 6.0]\n",
    "\n",
    "combined = list(zip(list1, list2))\n",
    "print(\"Combined list of list 1 and list 2:\", combined)\n",
    "\n",
    "sums = [a+b for (a,b) in combined]\n",
    "print(\"List comprehension of adding the number in each sub-list:\", sums)\n",
    "\n",
    "quotients = [b/a for (a,b) in combined]\n",
    "print(\"List comprehension of dividing second number to first number is each sub-list\", quotients)"
   ]
  },
  {
   "cell_type": "code",
   "execution_count": 36,
   "metadata": {},
   "outputs": [
    {
     "name": "stdout",
     "output_type": "stream",
     "text": [
      "['Santiago, Chile', 'Paris, France', 'Copenhagen, Denmark']\n"
     ]
    }
   ],
   "source": [
    "capitals = [\"Santiago\", \"Paris\", \"Copenhagen\"]\n",
    "countries = [\"Chile\", \"France\", \"Denmark\"]\n",
    "\n",
    "locations = [capital + \", \" + country for (capital, country) in list(zip(capitals, countries))]\n",
    "print(locations)"
   ]
  },
  {
   "cell_type": "code",
   "execution_count": 37,
   "metadata": {},
   "outputs": [
    {
     "name": "stdout",
     "output_type": "stream",
     "text": [
      "['Name: Shilah, Age: 14', 'Name: Arya, Age: 9', 'Name: Kele, Age: 35']\n"
     ]
    }
   ],
   "source": [
    "names = [\"Shilah\", \"Arya\", \"Kele\"]\n",
    "ages = [14, 9, 35]\n",
    "\n",
    "users = [\"Name: \" + name + \", Age: \"+ str(age) for (name, age) in list(zip(names, ages))]\n",
    "print(users)"
   ]
  },
  {
   "cell_type": "code",
   "execution_count": 43,
   "metadata": {},
   "outputs": [
    {
     "name": "stdout",
     "output_type": "stream",
     "text": [
      "[True, True, False]\n"
     ]
    }
   ],
   "source": [
    "list1 = [30, 42, 10]\n",
    "list2 = [15, 16, 17]\n",
    "\n",
    "greater_than = [a > b for (a,b) in list(zip(list1, list2))]\n",
    "print(greater_than)"
   ]
  }
 ],
 "metadata": {
  "kernelspec": {
   "display_name": "Python 3",
   "language": "python",
   "name": "python3"
  },
  "language_info": {
   "codemirror_mode": {
    "name": "ipython",
    "version": 3
   },
   "file_extension": ".py",
   "mimetype": "text/x-python",
   "name": "python",
   "nbconvert_exporter": "python",
   "pygments_lexer": "ipython3",
   "version": "3.8.3"
  }
 },
 "nbformat": 4,
 "nbformat_minor": 4
}
