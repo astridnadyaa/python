{
 "cells": [
  {
   "cell_type": "markdown",
   "metadata": {},
   "source": [
    "### Project Description:\n",
    "\n",
    "The Magic 8-Ball is a popular toy developed in the 1950s for fortune-telling or advice seeking. Write a magic8.py Python program that can answer any “Yes” or “No” question with a different fortune each time it executes.\n",
    "\n",
    "We’ll be using the following 9 possible answers for our Magic 8-Ball:\n",
    "\n",
    "- Yes - definitely.\n",
    "- It is decidedly so.\n",
    "- Without a doubt.\n",
    "- Reply hazy, try again.\n",
    "- Ask again later.\n",
    "- Better not tell you now.\n",
    "- My sources say no.\n",
    "- Outlook not so good.\n",
    "- Very doubtful."
   ]
  },
  {
   "cell_type": "code",
   "execution_count": 1,
   "metadata": {},
   "outputs": [
    {
     "name": "stdout",
     "output_type": "stream",
     "text": [
      "what's your name? \n",
      "what do you want to ask? will i win the lottery?\n"
     ]
    }
   ],
   "source": [
    "# setting up\n",
    "name = input(\"what's your name? \")\n",
    "question = input(\"what do you want to ask? \")\n",
    "answer = \"\""
   ]
  },
  {
   "cell_type": "code",
   "execution_count": 2,
   "metadata": {},
   "outputs": [
    {
     "name": "stdout",
     "output_type": "stream",
     "text": [
      "The random number is:  7\n"
     ]
    }
   ],
   "source": [
    "# generating a random number\n",
    "import random\n",
    "\n",
    "random_number = random.randint(1,9)\n",
    "print(\"The random number is: \", random_number)"
   ]
  },
  {
   "cell_type": "code",
   "execution_count": 3,
   "metadata": {},
   "outputs": [
    {
     "name": "stdout",
     "output_type": "stream",
     "text": [
      "Question: will i win the lottery?\n",
      " asks: will i win the lottery?\n",
      "Magic 8-Ball's answer: \n"
     ]
    }
   ],
   "source": [
    "# control flow name\n",
    "if name == \"\":\n",
    "    print(\"Question: \" + question)\n",
    "else:\n",
    "    print(name + \" asks: \" + question)\n",
    "    \n",
    "# control flow question\n",
    "if len(question) == 0:\n",
    "    print(\"The Magic 8-Ball cannot provide a fortune unless you ask it something.\")\n",
    "else:\n",
    "    print(name + \" asks: \" + question)\n",
    "    print(\"Magic 8-Ball's answer: \" + answer)\n",
    "\n",
    "# control magic 8-Ball\n",
    "if random_number == 1:\n",
    "    answer = \"Yes - definitely.\"\n",
    "elif random_number == 2:\n",
    "    answer = \"It is decidedly so.\"\n",
    "elif random_number == 3:\n",
    "    answer = \"Without a doubt.\"\n",
    "elif random_number == 4:\n",
    "    answer = \"Reply hazy, try again.\"\n",
    "elif random_number == 5:\n",
    "    answer = \"Ask again later.\"\n",
    "elif random_number == 6:\n",
    "    answer = \"Better not tell you now.\"\n",
    "elif random_number == 7:\n",
    "    answer = \"My sources say no.\"\n",
    "elif random_number == 8:\n",
    "    answer = \"Outlook not so good.\"\n",
    "elif random_number == 9:\n",
    "    answer = \"Very doubtful.\"\n",
    "else:\n",
    "    answer = \"Error\""
   ]
  }
 ],
 "metadata": {
  "kernelspec": {
   "display_name": "Python 3",
   "language": "python",
   "name": "python3"
  },
  "language_info": {
   "codemirror_mode": {
    "name": "ipython",
    "version": 3
   },
   "file_extension": ".py",
   "mimetype": "text/x-python",
   "name": "python",
   "nbconvert_exporter": "python",
   "pygments_lexer": "ipython3",
   "version": "3.8.3"
  }
 },
 "nbformat": 4,
 "nbformat_minor": 4
}
