{
 "cells": [
  {
   "cell_type": "markdown",
   "metadata": {},
   "source": [
    "### Project Description:\n",
    "\n",
    "Sal runs the biggest shipping company in the tri-county area, Sal’s Shippers. Sal wants to make sure that every single one of his customers has the best, and most affordable experience shipping their packages. \n",
    "\n",
    "In this project, build a program that will take the weight of a package and determine the cheapest way to ship that package using Sal’s Shippers. Sal’s Shippers has several different options for a customer to ship their package:\n",
    "\n",
    "- Ground Shipping, which is a small flat charge plus a rate based on the weight of your package.\n",
    "- Ground Shipping Premium, which is a much higher flat charge, but you aren’t charged for weight.\n",
    "- Drone Shipping (new), which has no flat charge, but the rate based on weight is triple the rate of ground shipping.\n",
    "\n",
    "Write a python program that asks the user for the weight of their package and then tells them which method of shipping is cheapest and how much it will cost to ship their package using Sal’s Shippers."
   ]
  },
  {
   "cell_type": "code",
   "execution_count": 17,
   "metadata": {},
   "outputs": [],
   "source": [
    "weight_package = 8.4  ## weight of package in lb"
   ]
  },
  {
   "cell_type": "code",
   "execution_count": 18,
   "metadata": {},
   "outputs": [
    {
     "name": "stdout",
     "output_type": "stream",
     "text": [
      "Ground Shipping cost is $ 53.6\n",
      "Ground Shipping Premium cost is $ 125.0\n",
      "Drone shipping cost is $ 100.80000000000001\n"
     ]
    }
   ],
   "source": [
    "# ground shipping\n",
    "if weight_package <= 2:\n",
    "    cost_ground = weight_package * 1.5 + 20\n",
    "elif weight_package > 2 and weight_package <= 6:\n",
    "    cost_ground = weight_package * 3.00 + 20.00\n",
    "elif weight_package > 6 and weight_package <= 10:\n",
    "    cost_ground = weight_package * 4 + 20.00\n",
    "else:\n",
    "    cost_ground = weight_package * 4.75 + 20.00\n",
    "\n",
    "print(\"Ground Shipping cost is $\",cost_ground)\n",
    "\n",
    "\n",
    "# ground shipping premium\n",
    "cost_ground_premium = 125.00\n",
    "print(\"Ground Shipping Premium cost is $\", cost_ground_premium)\n",
    "\n",
    "\n",
    "# drone shipping\n",
    "if weight_package <= 2.0:\n",
    "    cost_drone = weight_package * 4.50\n",
    "elif weight_package > 2.0 and weight_package <= 6:\n",
    "    cost_drone = weight_package * 9.00\n",
    "elif weight_package > 6.0 and weight_package <= 10:\n",
    "    cost_drone = weight_package * 12.00\n",
    "else:\n",
    "    cost_drone = weight_package * 14.25\n",
    "\n",
    "print(\"Drone shipping cost is $\",cost_drone)"
   ]
  }
 ],
 "metadata": {
  "kernelspec": {
   "display_name": "Python 3",
   "language": "python",
   "name": "python3"
  },
  "language_info": {
   "codemirror_mode": {
    "name": "ipython",
    "version": 3
   },
   "file_extension": ".py",
   "mimetype": "text/x-python",
   "name": "python",
   "nbconvert_exporter": "python",
   "pygments_lexer": "ipython3",
   "version": "3.8.3"
  }
 },
 "nbformat": 4,
 "nbformat_minor": 4
}
