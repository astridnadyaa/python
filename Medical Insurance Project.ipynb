{
 "cells": [
  {
   "cell_type": "markdown",
   "metadata": {},
   "source": [
    "### Project Description:\n",
    "\n",
    "Calculating a person's medical insurance costs by considering certain factors that contribute to medical insurance costs. Estimation calculations of a person's medical insurance costs that affect the prediction, from datas such as age, sex, BMI, number of children, and if the person is smoking or not."
   ]
  },
  {
   "cell_type": "markdown",
   "metadata": {},
   "source": [
    "### Calculating the Medical Insurance Costs from Scratch"
   ]
  },
  {
   "cell_type": "code",
   "execution_count": 1,
   "metadata": {},
   "outputs": [],
   "source": [
    "# Features that need to be consider when estimating medical insurance costs\n",
    "age = 40\n",
    "sex = 1               ## 0 for female, 1 for male\n",
    "bmi = 25.5\n",
    "num_of_children = 0\n",
    "smoker = 1            ## 0 for a non-smoker, 1 for a smoker"
   ]
  },
  {
   "cell_type": "code",
   "execution_count": 2,
   "metadata": {},
   "outputs": [],
   "source": [
    "# Creating the formula\n",
    "insurance_cost = 250*age - 128*sex + 370*bmi + 425*num_of_children + 24000*smoker - 12500"
   ]
  },
  {
   "cell_type": "code",
   "execution_count": 3,
   "metadata": {},
   "outputs": [
    {
     "name": "stdout",
     "output_type": "stream",
     "text": [
      "This person's insurance cost is 30807.0 dollars.\n"
     ]
    }
   ],
   "source": [
    "print(\"This person's insurance cost is \" + str(insurance_cost) + \" dollars.\")"
   ]
  },
  {
   "cell_type": "markdown",
   "metadata": {},
   "source": [
    "##### >> Looking at changing the age factor affecting to the insurance costs."
   ]
  },
  {
   "cell_type": "code",
   "execution_count": 4,
   "metadata": {},
   "outputs": [],
   "source": [
    "# Changing the age features value\n",
    "age += 4"
   ]
  },
  {
   "cell_type": "code",
   "execution_count": 5,
   "metadata": {},
   "outputs": [
    {
     "data": {
      "text/plain": [
       "44"
      ]
     },
     "execution_count": 5,
     "metadata": {},
     "output_type": "execute_result"
    }
   ],
   "source": [
    "age"
   ]
  },
  {
   "cell_type": "code",
   "execution_count": 6,
   "metadata": {},
   "outputs": [],
   "source": [
    "new_insurance_cost = 250*age - 128*sex + 370*bmi + 425*num_of_children + 24000*smoker - 12500"
   ]
  },
  {
   "cell_type": "code",
   "execution_count": 7,
   "metadata": {},
   "outputs": [
    {
     "name": "stdout",
     "output_type": "stream",
     "text": [
      "This person's insurance cost is 31807.0 dollars.\n"
     ]
    }
   ],
   "source": [
    "print(\"This person's insurance cost is \" + str(new_insurance_cost) + \" dollars.\")"
   ]
  },
  {
   "cell_type": "code",
   "execution_count": 8,
   "metadata": {},
   "outputs": [],
   "source": [
    "change_in_insurance_cost = new_insurance_cost - insurance_cost"
   ]
  },
  {
   "cell_type": "code",
   "execution_count": 9,
   "metadata": {},
   "outputs": [
    {
     "name": "stdout",
     "output_type": "stream",
     "text": [
      "The change in cost of insurance after increasing the age by 4 years is 1000.0 dollars.\n"
     ]
    }
   ],
   "source": [
    "print(\"The change in cost of insurance after increasing the age by 4 years is \" + str(change_in_insurance_cost) + \n",
    "      \" dollars.\")"
   ]
  },
  {
   "cell_type": "markdown",
   "metadata": {},
   "source": [
    "As this person getting older, the medical insurance will cost more."
   ]
  },
  {
   "cell_type": "markdown",
   "metadata": {},
   "source": [
    "##### >> Looking at changing the BMI factor affecting to the insurance costs."
   ]
  },
  {
   "cell_type": "code",
   "execution_count": 10,
   "metadata": {},
   "outputs": [],
   "source": [
    "# set age feature to its original value\n",
    "# change the bmi feature value\n",
    "age = 40\n",
    "bmi += 3.1"
   ]
  },
  {
   "cell_type": "code",
   "execution_count": 11,
   "metadata": {},
   "outputs": [
    {
     "data": {
      "text/plain": [
       "28.6"
      ]
     },
     "execution_count": 11,
     "metadata": {},
     "output_type": "execute_result"
    }
   ],
   "source": [
    "bmi"
   ]
  },
  {
   "cell_type": "code",
   "execution_count": 12,
   "metadata": {},
   "outputs": [],
   "source": [
    "new_insurance_cost = 250*age - 128*sex + 370*bmi + 425*num_of_children + 24000*smoker - 12500"
   ]
  },
  {
   "cell_type": "code",
   "execution_count": 13,
   "metadata": {},
   "outputs": [
    {
     "name": "stdout",
     "output_type": "stream",
     "text": [
      "This person's insurance cost is 31954.0 dollars.\n"
     ]
    }
   ],
   "source": [
    "print(\"This person's insurance cost is \" + str(new_insurance_cost) + \" dollars.\")"
   ]
  },
  {
   "cell_type": "code",
   "execution_count": 14,
   "metadata": {},
   "outputs": [],
   "source": [
    "change_in_insurance_cost = new_insurance_cost - insurance_cost"
   ]
  },
  {
   "cell_type": "code",
   "execution_count": 15,
   "metadata": {},
   "outputs": [
    {
     "name": "stdout",
     "output_type": "stream",
     "text": [
      "The change in estimated insurance cost after increasing BMI by 3.1 is 1147.0 dollars.\n"
     ]
    }
   ],
   "source": [
    "print(\"The change in estimated insurance cost after increasing BMI by 3.1 is \" + str(change_in_insurance_cost) + \n",
    "      \" dollars.\")"
   ]
  },
  {
   "cell_type": "markdown",
   "metadata": {},
   "source": [
    "Change in BMI factor affecting the medical insurance cost. As in this example the BMI values increasing, so does the medical insurance cost is. The insurance cost increasing by 1147.0 dollars."
   ]
  },
  {
   "cell_type": "markdown",
   "metadata": {},
   "source": [
    "##### >> Looking at the gender factor affecting the medical insurance costs."
   ]
  },
  {
   "cell_type": "code",
   "execution_count": 16,
   "metadata": {},
   "outputs": [],
   "source": [
    "# set the bmi feature to its orginal value\n",
    "# changing the sex feature value\n",
    "bmi = 25.5\n",
    "sex = 0"
   ]
  },
  {
   "cell_type": "code",
   "execution_count": 17,
   "metadata": {},
   "outputs": [],
   "source": [
    "new_insurance_cost = 250*age - 128*sex + 370*bmi + 425*num_of_children + 24000*smoker - 12500"
   ]
  },
  {
   "cell_type": "code",
   "execution_count": 18,
   "metadata": {},
   "outputs": [
    {
     "name": "stdout",
     "output_type": "stream",
     "text": [
      "This person's insurance cost is 30935.0 dollars.\n"
     ]
    }
   ],
   "source": [
    "print(\"This person's insurance cost is \" + str(new_insurance_cost) + \" dollars.\")"
   ]
  },
  {
   "cell_type": "code",
   "execution_count": 19,
   "metadata": {},
   "outputs": [],
   "source": [
    "change_in_insurance_cost = new_insurance_cost - insurance_cost"
   ]
  },
  {
   "cell_type": "code",
   "execution_count": 20,
   "metadata": {},
   "outputs": [
    {
     "name": "stdout",
     "output_type": "stream",
     "text": [
      "The change in estimated insurance cost for being female instead of male is 128.0 dollars.\n"
     ]
    }
   ],
   "source": [
    "print(\"The change in estimated insurance cost for being female instead of male is \" + str(change_in_insurance_cost) + \n",
    "      \" dollars.\")"
   ]
  },
  {
   "cell_type": "markdown",
   "metadata": {},
   "source": [
    "The result by changing gender showed that men tend to have lower medical costs on average than women."
   ]
  },
  {
   "cell_type": "markdown",
   "metadata": {},
   "source": [
    "##### >> Looking at the smoking factor affecting the medical insurance costs."
   ]
  },
  {
   "cell_type": "code",
   "execution_count": 21,
   "metadata": {},
   "outputs": [],
   "source": [
    "# set the sex feature values to its original\n",
    "# change the smoker value\n",
    "sex = 1\n",
    "smoker = 0"
   ]
  },
  {
   "cell_type": "code",
   "execution_count": 22,
   "metadata": {},
   "outputs": [],
   "source": [
    "new_insurance_cost = 250*age - 128*sex + 370*bmi + 425*num_of_children + 24000*smoker - 12500"
   ]
  },
  {
   "cell_type": "code",
   "execution_count": 23,
   "metadata": {},
   "outputs": [
    {
     "name": "stdout",
     "output_type": "stream",
     "text": [
      "This person's insurance cost is 6807.0 dollars.\n"
     ]
    }
   ],
   "source": [
    "print(\"This person's insurance cost is \" + str(new_insurance_cost) + \" dollars.\")"
   ]
  },
  {
   "cell_type": "code",
   "execution_count": 24,
   "metadata": {},
   "outputs": [],
   "source": [
    "change_in_insurance_cost = new_insurance_cost - insurance_cost"
   ]
  },
  {
   "cell_type": "code",
   "execution_count": 25,
   "metadata": {},
   "outputs": [
    {
     "name": "stdout",
     "output_type": "stream",
     "text": [
      "The change in estimated insurance cost for being female instead of male is -24000.0 dollars.\n"
     ]
    }
   ],
   "source": [
    "print(\"The change in estimated insurance cost for being female instead of male is \" + str(change_in_insurance_cost) + \n",
    "      \" dollars.\")"
   ]
  },
  {
   "cell_type": "markdown",
   "metadata": {},
   "source": [
    "If this person is not smoking resulting the insurance cost around 6807.0 dollars, way cheaper that if the person is smoking. As seen the change result is around 24000 dollars which will save lot of cost of medical insurance."
   ]
  },
  {
   "cell_type": "markdown",
   "metadata": {},
   "source": [
    "### Using Function to Calculate the Medical Insurance Costs"
   ]
  },
  {
   "cell_type": "code",
   "execution_count": 26,
   "metadata": {},
   "outputs": [],
   "source": [
    "def calculate_insurance_cost(name, age, sex, bmi, num_of_children, smoker):\n",
    "    estimated_cost = 250*age - 128*sex + 370*bmi + 425*num_of_children + 24000*smoker - 12500\n",
    "    print(\"The estimated insurance cost for \" + name + \" is \"+ str(estimated_cost) + \" dollars.\")\n",
    "    return estimated_cost"
   ]
  },
  {
   "cell_type": "code",
   "execution_count": 27,
   "metadata": {},
   "outputs": [
    {
     "name": "stdout",
     "output_type": "stream",
     "text": [
      "The estimated insurance cost for me is 5490 dollars.\n"
     ]
    }
   ],
   "source": [
    "me_insurance_cost = calculate_insurance_cost(name= \"me\", age=32, sex=0, bmi=27, num_of_children=0, smoker=0)"
   ]
  },
  {
   "cell_type": "markdown",
   "metadata": {},
   "source": [
    "### Using Control Flow to Calculate the Medical Insurance Costs"
   ]
  },
  {
   "cell_type": "code",
   "execution_count": 28,
   "metadata": {},
   "outputs": [],
   "source": [
    "# Analyzing smoker status\n",
    "def analyze_smoker(smoker_status):\n",
    "    if smoker_status == 1:\n",
    "        print(\"To lower your cost, you should consider quitting smoking.\")\n",
    "    else:\n",
    "        print(\"Smoking is not an issue for you.\")\n",
    "\n",
    "# Analyzing BMI \n",
    "def analyze_bmi(bmi_value):\n",
    "    if bmi_value > 30:\n",
    "        print(\"Your BMI is in the obese range. To lower your cost, you should significantly lower your BMI.\")\n",
    "    elif bmi_value >= 25 and bmi_value <= 30:\n",
    "        print(\"Your BMI is in the overweight range. To lower your cost, you should lower your BMI.\")\n",
    "    elif bmi_value >= 18.5 and bmi_value < 25:\n",
    "        print(\"Your BMI is in a healthy range.\")\n",
    "    elif bmi_value < 18.5:\n",
    "        print(\"Your BMI is in the underweight range. Increasing your BMI will not help lower your cost, but it will help improve your health.\")"
   ]
  },
  {
   "cell_type": "code",
   "execution_count": 29,
   "metadata": {},
   "outputs": [],
   "source": [
    "# Function to estimate insurance cost:\n",
    "def estimate_insurance_cost(name, age, sex, bmi, num_of_children, smoker):\n",
    "    estimated_cost = 250*age - 128*sex + 370*bmi + 425*num_of_children + 24000*smoker - 12500\n",
    "    print(name + \"'s Estimated Insurance Cost: \" + str(estimated_cost) + \" dollars.\")\n",
    "    analyze_smoker(smoker)\n",
    "    analyze_bmi(bmi)\n",
    "    return estimated_cost"
   ]
  },
  {
   "cell_type": "code",
   "execution_count": 30,
   "metadata": {},
   "outputs": [
    {
     "name": "stdout",
     "output_type": "stream",
     "text": [
      "Keanu's Estimated Insurance Cost: 29591.0 dollars.\n",
      "To lower your cost, you should consider quitting smoking.\n",
      "Your BMI is in the overweight range. To lower your cost, you should lower your BMI.\n"
     ]
    }
   ],
   "source": [
    "keanu_insurance_cost = estimate_insurance_cost(name = 'Keanu', age = 29, sex = 1, bmi = 26.2, num_of_children = 3, smoker = 1)"
   ]
  },
  {
   "cell_type": "code",
   "execution_count": 31,
   "metadata": {},
   "outputs": [
    {
     "name": "stdout",
     "output_type": "stream",
     "text": [
      "Me's Estimated Insurance Cost: 5490 dollars.\n",
      "Smoking is not an issue for you.\n",
      "Your BMI is in the overweight range. To lower your cost, you should lower your BMI.\n"
     ]
    }
   ],
   "source": [
    "my_insurance_cost = estimate_insurance_cost(name = 'Me', age = 32, sex = 0, bmi = 27, num_of_children = 0, smoker = 0)"
   ]
  },
  {
   "cell_type": "markdown",
   "metadata": {},
   "source": [
    "### Using Lists to Calculate the Medical Insurance Costs"
   ]
  },
  {
   "cell_type": "markdown",
   "metadata": {},
   "source": [
    "Comparing medical insurance costs of three persons : Maria, Rohan, Valentina."
   ]
  },
  {
   "cell_type": "code",
   "execution_count": 72,
   "metadata": {},
   "outputs": [],
   "source": [
    "# Function to estimate insurance cost\n",
    "def estimated_insurance_cost(name, age, sex, bmi, num_of_children, smoker):\n",
    "    estimated_cost = 250*age - 128*sex + 370*bmi + 425*num_of_children + 24000*smoker - 12500\n",
    "    print(name + \"'s Estimated Insurance Cost: \" + str(estimated_cost) + \" dollars.\")\n",
    "    return estimated_cost"
   ]
  },
  {
   "cell_type": "code",
   "execution_count": 73,
   "metadata": {},
   "outputs": [
    {
     "name": "stdout",
     "output_type": "stream",
     "text": [
      "Maria's Estimated Insurance Cost: 4222.0 dollars.\n",
      "Rohan's Estimated Insurance Cost: 5442.0 dollars.\n",
      "Valentina's Estimated Insurance Cost: 36368.0 dollars.\n"
     ]
    }
   ],
   "source": [
    "# Estimate Maria's insurance cost\n",
    "maria_insurance_cost = estimated_insurance_cost(name = \"Maria\", age = 31, sex = 0, bmi = 23.1, num_of_children = 1, smoker = 0)\n",
    "\n",
    "# Estimate Rohan's insurance cost\n",
    "rohan_insurance_cost = estimated_insurance_cost(name = \n",
    "\"Rohan\", age = 25, sex = 1, bmi = 28.5, num_of_children = 3, smoker = 0)\n",
    "\n",
    "# Estimate Valentina's insurance cost\n",
    "valentina_insurance_cost = estimated_insurance_cost(name = \"Valentina\", age = 53, sex = 0, bmi = 31.4, num_of_children = 0, smoker = 1)"
   ]
  },
  {
   "cell_type": "code",
   "execution_count": 74,
   "metadata": {},
   "outputs": [],
   "source": [
    "# Information of actual insurance cost\n",
    "names = ['Maria', 'Rohan', 'Valentina']\n",
    "insurance_costs = [4150.0, 5320.0, 35210.0]\n",
    "\n",
    "insurance_data = list(zip(names, insurance_costs))"
   ]
  },
  {
   "cell_type": "code",
   "execution_count": 75,
   "metadata": {},
   "outputs": [],
   "source": [
    "# Information of estimated insurance data\n",
    "estimated_insurance_data = []\n",
    "\n",
    "estimated_insurance_data.append((\"Maria\", maria_insurance_cost))\n",
    "estimated_insurance_data.append((\"Rohan\", rohan_insurance_cost))\n",
    "estimated_insurance_data.append((\"Valentina\", valentina_insurance_cost))"
   ]
  },
  {
   "cell_type": "code",
   "execution_count": 77,
   "metadata": {},
   "outputs": [
    {
     "name": "stdout",
     "output_type": "stream",
     "text": [
      "Maria's Actual Insurance Cost: 4150.0\n",
      "Rohan's Actual Insurance Cost: 5320.0\n",
      "Valentina's Actual Insurance Cost: 35210.0\n"
     ]
    }
   ],
   "source": [
    "print(\"Maria's Actual Insurance Cost:\", insurance_data[0][1])\n",
    "print(\"Rohan's Actual Insurance Cost:\", insurance_data[1][1])\n",
    "print(\"Valentina's Actual Insurance Cost:\", insurance_data[2][1])"
   ]
  },
  {
   "cell_type": "code",
   "execution_count": 78,
   "metadata": {},
   "outputs": [],
   "source": [
    "# Insurance cost difference for each person\n",
    "insurance_cost_difference_maria = estimated_insurance_data[0][1] - insurance_data[0][1]\n",
    "insurance_cost_difference_rohan = estimated_insurance_data[1][1] - insurance_data[1][1]\n",
    "insurance_cost_difference_valentina = estimated_insurance_data[2][1] - insurance_data[2][1]"
   ]
  },
  {
   "cell_type": "code",
   "execution_count": 79,
   "metadata": {},
   "outputs": [
    {
     "name": "stdout",
     "output_type": "stream",
     "text": [
      "The difference insurance cost of Maria: 72.0\n",
      "The difference insurance cost of Rohan: 122.0\n",
      "The difference insurance cost of Valentina: 1158.0\n"
     ]
    }
   ],
   "source": [
    "print(\"The difference insurance cost of Maria:\", insurance_cost_difference_maria)\n",
    "print(\"The difference insurance cost of Rohan:\", insurance_cost_difference_rohan)\n",
    "print(\"The difference insurance cost of Valentina:\", insurance_cost_difference_valentina)"
   ]
  },
  {
   "cell_type": "markdown",
   "metadata": {},
   "source": [
    "There are differences between the actual insurance costs and estimated insurance costs. The actual insurance costs seems to be lower than the estimated insurance costs for each of the three individuals.\n",
    "\n",
    "This means that estimated_insurance_cost function does not calculate insurance costs with 100% accuracy. The function might be overestimating the insurance cost."
   ]
  }
 ],
 "metadata": {
  "kernelspec": {
   "display_name": "Python 3",
   "language": "python",
   "name": "python3"
  },
  "language_info": {
   "codemirror_mode": {
    "name": "ipython",
    "version": 3
   },
   "file_extension": ".py",
   "mimetype": "text/x-python",
   "name": "python",
   "nbconvert_exporter": "python",
   "pygments_lexer": "ipython3",
   "version": "3.8.3"
  }
 },
 "nbformat": 4,
 "nbformat_minor": 4
}
