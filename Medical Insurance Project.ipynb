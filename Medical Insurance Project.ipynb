{
 "cells": [
  {
   "cell_type": "markdown",
   "metadata": {},
   "source": [
    "### Project Description:\n",
    "\n",
    "Calculating a person's medical insurance costs by considering certain factors that contribute to medical insurance costs. Estimation calculations of a person's medical insurance costs that affect the prediction, from datas such as age, sex, BMI, number of children, and if the person is smoking or not."
   ]
  },
  {
   "cell_type": "markdown",
   "metadata": {},
   "source": [
    "### Calculating the Medical Insurance Costs without Function"
   ]
  },
  {
   "cell_type": "code",
   "execution_count": 1,
   "metadata": {},
   "outputs": [],
   "source": [
    "# Features that need to be consider when estimating medical insurance costs\n",
    "age = 40\n",
    "sex = 1               ## 0 for female, 1 for male\n",
    "bmi = 25.5\n",
    "num_of_children = 0\n",
    "smoker = 1            ## 0 for a non-smoker, 1 for a smoker"
   ]
  },
  {
   "cell_type": "code",
   "execution_count": 2,
   "metadata": {},
   "outputs": [],
   "source": [
    "# Creating the formula\n",
    "insurance_cost = 250*age - 128*sex + 370*bmi + 425*num_of_children + 24000*smoker - 12500"
   ]
  },
  {
   "cell_type": "code",
   "execution_count": 3,
   "metadata": {},
   "outputs": [
    {
     "name": "stdout",
     "output_type": "stream",
     "text": [
      "This person's insurance cost is 30807.0 dollars.\n"
     ]
    }
   ],
   "source": [
    "print(\"This person's insurance cost is \" + str(insurance_cost) + \" dollars.\")"
   ]
  },
  {
   "cell_type": "markdown",
   "metadata": {},
   "source": [
    "##### >> Looking at changing the age factor affecting to the insurance costs."
   ]
  },
  {
   "cell_type": "code",
   "execution_count": 4,
   "metadata": {},
   "outputs": [],
   "source": [
    "# Changing the age features value\n",
    "age += 4"
   ]
  },
  {
   "cell_type": "code",
   "execution_count": 5,
   "metadata": {},
   "outputs": [
    {
     "data": {
      "text/plain": [
       "44"
      ]
     },
     "execution_count": 5,
     "metadata": {},
     "output_type": "execute_result"
    }
   ],
   "source": [
    "age"
   ]
  },
  {
   "cell_type": "code",
   "execution_count": 6,
   "metadata": {},
   "outputs": [],
   "source": [
    "new_insurance_cost = 250*age - 128*sex + 370*bmi + 425*num_of_children + 24000*smoker - 12500"
   ]
  },
  {
   "cell_type": "code",
   "execution_count": 7,
   "metadata": {},
   "outputs": [
    {
     "name": "stdout",
     "output_type": "stream",
     "text": [
      "This person's insurance cost is 31807.0 dollars.\n"
     ]
    }
   ],
   "source": [
    "print(\"This person's insurance cost is \" + str(new_insurance_cost) + \" dollars.\")"
   ]
  },
  {
   "cell_type": "code",
   "execution_count": 8,
   "metadata": {},
   "outputs": [],
   "source": [
    "change_in_insurance_cost = new_insurance_cost - insurance_cost"
   ]
  },
  {
   "cell_type": "code",
   "execution_count": 9,
   "metadata": {},
   "outputs": [
    {
     "name": "stdout",
     "output_type": "stream",
     "text": [
      "The change in cost of insurance after increasing the age by 4 years is 1000.0 dollars.\n"
     ]
    }
   ],
   "source": [
    "print(\"The change in cost of insurance after increasing the age by 4 years is \" + str(change_in_insurance_cost) + \n",
    "      \" dollars.\")"
   ]
  },
  {
   "cell_type": "markdown",
   "metadata": {},
   "source": [
    "As this person getting older, the medical insurance will cost more."
   ]
  },
  {
   "cell_type": "markdown",
   "metadata": {},
   "source": [
    "##### >> Looking at changing the BMI factor affecting to the insurance costs."
   ]
  },
  {
   "cell_type": "code",
   "execution_count": 10,
   "metadata": {},
   "outputs": [],
   "source": [
    "# set age feature to its original value\n",
    "# change the bmi feature value\n",
    "age = 40\n",
    "bmi += 3.1"
   ]
  },
  {
   "cell_type": "code",
   "execution_count": 11,
   "metadata": {},
   "outputs": [
    {
     "data": {
      "text/plain": [
       "28.6"
      ]
     },
     "execution_count": 11,
     "metadata": {},
     "output_type": "execute_result"
    }
   ],
   "source": [
    "bmi"
   ]
  },
  {
   "cell_type": "code",
   "execution_count": 12,
   "metadata": {},
   "outputs": [],
   "source": [
    "new_insurance_cost = 250*age - 128*sex + 370*bmi + 425*num_of_children + 24000*smoker - 12500"
   ]
  },
  {
   "cell_type": "code",
   "execution_count": 13,
   "metadata": {},
   "outputs": [
    {
     "name": "stdout",
     "output_type": "stream",
     "text": [
      "This person's insurance cost is 31954.0 dollars.\n"
     ]
    }
   ],
   "source": [
    "print(\"This person's insurance cost is \" + str(new_insurance_cost) + \" dollars.\")"
   ]
  },
  {
   "cell_type": "code",
   "execution_count": 14,
   "metadata": {},
   "outputs": [],
   "source": [
    "change_in_insurance_cost = new_insurance_cost - insurance_cost"
   ]
  },
  {
   "cell_type": "code",
   "execution_count": 15,
   "metadata": {},
   "outputs": [
    {
     "name": "stdout",
     "output_type": "stream",
     "text": [
      "The change in estimated insurance cost after increasing BMI by 3.1 is 1147.0 dollars.\n"
     ]
    }
   ],
   "source": [
    "print(\"The change in estimated insurance cost after increasing BMI by 3.1 is \" + str(change_in_insurance_cost) + \n",
    "      \" dollars.\")"
   ]
  },
  {
   "cell_type": "markdown",
   "metadata": {},
   "source": [
    "Change in BMI factor affecting the medical insurance cost. As in this example the BMI values increasing, so does the medical insurance cost is. The insurance cost increasing by 1147.0 dollars."
   ]
  },
  {
   "cell_type": "markdown",
   "metadata": {},
   "source": [
    "##### >> Looking at the gender factor affecting the medical insurance costs."
   ]
  },
  {
   "cell_type": "code",
   "execution_count": 16,
   "metadata": {},
   "outputs": [],
   "source": [
    "# set the bmi feature to its orginal value\n",
    "# changing the sex feature value\n",
    "bmi = 25.5\n",
    "sex = 0"
   ]
  },
  {
   "cell_type": "code",
   "execution_count": 17,
   "metadata": {},
   "outputs": [],
   "source": [
    "new_insurance_cost = 250*age - 128*sex + 370*bmi + 425*num_of_children + 24000*smoker - 12500"
   ]
  },
  {
   "cell_type": "code",
   "execution_count": 18,
   "metadata": {},
   "outputs": [
    {
     "name": "stdout",
     "output_type": "stream",
     "text": [
      "This person's insurance cost is 30935.0 dollars.\n"
     ]
    }
   ],
   "source": [
    "print(\"This person's insurance cost is \" + str(new_insurance_cost) + \" dollars.\")"
   ]
  },
  {
   "cell_type": "code",
   "execution_count": 19,
   "metadata": {},
   "outputs": [],
   "source": [
    "change_in_insurance_cost = new_insurance_cost - insurance_cost"
   ]
  },
  {
   "cell_type": "code",
   "execution_count": 20,
   "metadata": {},
   "outputs": [
    {
     "name": "stdout",
     "output_type": "stream",
     "text": [
      "The change in estimated insurance cost for being female instead of male is 128.0 dollars.\n"
     ]
    }
   ],
   "source": [
    "print(\"The change in estimated insurance cost for being female instead of male is \" + str(change_in_insurance_cost) + \n",
    "      \" dollars.\")"
   ]
  },
  {
   "cell_type": "markdown",
   "metadata": {},
   "source": [
    "The result by changing gender showed that men tend to have lower medical costs on average than women."
   ]
  },
  {
   "cell_type": "markdown",
   "metadata": {},
   "source": [
    "##### >> Looking at the smoking factor affecting the medical insurance costs."
   ]
  },
  {
   "cell_type": "code",
   "execution_count": 21,
   "metadata": {},
   "outputs": [],
   "source": [
    "# set the sex feature values to its original\n",
    "# change the smoker value\n",
    "sex = 1\n",
    "smoker = 0"
   ]
  },
  {
   "cell_type": "code",
   "execution_count": 22,
   "metadata": {},
   "outputs": [],
   "source": [
    "new_insurance_cost = 250*age - 128*sex + 370*bmi + 425*num_of_children + 24000*smoker - 12500"
   ]
  },
  {
   "cell_type": "code",
   "execution_count": 23,
   "metadata": {},
   "outputs": [
    {
     "name": "stdout",
     "output_type": "stream",
     "text": [
      "This person's insurance cost is 6807.0 dollars.\n"
     ]
    }
   ],
   "source": [
    "print(\"This person's insurance cost is \" + str(new_insurance_cost) + \" dollars.\")"
   ]
  },
  {
   "cell_type": "code",
   "execution_count": 24,
   "metadata": {},
   "outputs": [],
   "source": [
    "change_in_insurance_cost = new_insurance_cost - insurance_cost"
   ]
  },
  {
   "cell_type": "code",
   "execution_count": 25,
   "metadata": {},
   "outputs": [
    {
     "name": "stdout",
     "output_type": "stream",
     "text": [
      "The change in estimated insurance cost for being female instead of male is -24000.0 dollars.\n"
     ]
    }
   ],
   "source": [
    "print(\"The change in estimated insurance cost for being female instead of male is \" + str(change_in_insurance_cost) + \n",
    "      \" dollars.\")"
   ]
  },
  {
   "cell_type": "markdown",
   "metadata": {},
   "source": [
    "If this person is not smoking resulting the insurance cost around 6807.0 dollars, way cheaper that if the person is smoking. As seen the change result is around 24000 dollars which will save lot of cost of medical insurance."
   ]
  },
  {
   "cell_type": "markdown",
   "metadata": {},
   "source": [
    "### Calculating the Medical Insurance Costs with Function"
   ]
  },
  {
   "cell_type": "markdown",
   "metadata": {},
   "source": [
    "#### [1.] Analyzing BMI and Smoking Status"
   ]
  },
  {
   "cell_type": "code",
   "execution_count": 42,
   "metadata": {},
   "outputs": [],
   "source": [
    "# Analyzing a person smoking status\n",
    "def analyze_smoker(smoker_status):\n",
    "    if smoker_status == 1:\n",
    "        print(\"To lower your cost, you should consider quitting smoking.\")\n",
    "    else:\n",
    "        print(\"Smoking is not an issue for you.\")\n",
    "\n",
    "# Analyzing a person BMI \n",
    "def analyze_bmi(bmi_value):\n",
    "    if bmi_value > 30:\n",
    "        print(\"Your BMI is in the obese range. To lower your cost, you should significantly lower your BMI.\")\n",
    "    elif bmi_value >= 25 and bmi_value <= 30:\n",
    "        print(\"Your BMI is in the overweight range. To lower your cost, you should lower your BMI.\")\n",
    "    elif bmi_value >= 18.5 and bmi_value < 25:\n",
    "        print(\"Your BMI is in a healthy range.\")\n",
    "    elif bmi_value < 18.5:\n",
    "        print(\"Your BMI is in the underweight range. Increasing your BMI will not help lower your cost, but it will help improve your health.\")"
   ]
  },
  {
   "cell_type": "code",
   "execution_count": 56,
   "metadata": {},
   "outputs": [],
   "source": [
    "# Function to estimate insurance cost:\n",
    "def estimate_insurance_cost(name, age, sex, bmi, num_of_children, smoker):\n",
    "    estimated_cost = 250*age - 128*sex + 370*bmi + 425*num_of_children + 24000*smoker - 12500\n",
    "    print(name + \"'s Estimated Insurance Cost: \" + str(estimated_cost) + \" dollars.\\n\")\n",
    "    analyze_smoker(smoker)\n",
    "    analyze_bmi(bmi)\n",
    "    print(\"-----------------------------------------------------------------------------------------------------------\")\n",
    "    return estimated_cost"
   ]
  },
  {
   "cell_type": "code",
   "execution_count": 57,
   "metadata": {},
   "outputs": [
    {
     "name": "stdout",
     "output_type": "stream",
     "text": [
      "Keanu's Estimated Insurance Cost: 29591.0 dollars.\n",
      "\n",
      "To lower your cost, you should consider quitting smoking.\n",
      "Your BMI is in the overweight range. To lower your cost, you should lower your BMI.\n",
      "-----------------------------------------------------------------------------------------------------------\n",
      "Maria's Estimated Insurance Cost: 4222.0 dollars.\n",
      "\n",
      "Smoking is not an issue for you.\n",
      "Your BMI is in a healthy range.\n",
      "-----------------------------------------------------------------------------------------------------------\n",
      "Rohan's Estimated Insurance Cost: 5442.0 dollars.\n",
      "\n",
      "Smoking is not an issue for you.\n",
      "Your BMI is in the overweight range. To lower your cost, you should lower your BMI.\n",
      "-----------------------------------------------------------------------------------------------------------\n",
      "Valentina's Estimated Insurance Cost: 36368.0 dollars.\n",
      "\n",
      "To lower your cost, you should consider quitting smoking.\n",
      "Your BMI is in the obese range. To lower your cost, you should significantly lower your BMI.\n",
      "-----------------------------------------------------------------------------------------------------------\n"
     ]
    }
   ],
   "source": [
    "# Estimate each person's insurance cost\n",
    "keanu_insurance_cost = estimate_insurance_cost(name = 'Keanu', age = 29, sex = 1, bmi = 26.2, num_of_children = 3, smoker = 1)\n",
    "maria_insurance_cost = estimate_insurance_cost(name = \"Maria\", age = 31, sex = 0, bmi = 23.1, num_of_children = 1, smoker = 0)\n",
    "rohan_insurance_cost = estimate_insurance_cost(name = \"Rohan\", age = 25, sex = 1, bmi = 28.5, num_of_children = 3, smoker = 0)\n",
    "valentina_insurance_cost = estimate_insurance_cost(name = \"Valentina\", age = 53, sex = 0, bmi = 31.4, num_of_children = 0, smoker = 1)"
   ]
  },
  {
   "cell_type": "markdown",
   "metadata": {},
   "source": [
    "#### [2.] Calculating Difference Insurance Cost"
   ]
  },
  {
   "cell_type": "code",
   "execution_count": 79,
   "metadata": {},
   "outputs": [],
   "source": [
    "# Actual person's insurance cost\n",
    "names = ['Maria', 'Rohan', 'Valentina']\n",
    "insurance_costs = [4150.0, 5320.0, 35210.0]\n",
    "\n",
    "insurance_data = list(zip(names, insurance_costs))"
   ]
  },
  {
   "cell_type": "code",
   "execution_count": 80,
   "metadata": {},
   "outputs": [],
   "source": [
    "# List of estimated insurance cost\n",
    "estimate_insurance_data = []\n",
    "\n",
    "estimate_insurance_data.append((\"Maria\", maria_insurance_cost))\n",
    "estimate_insurance_data.append((\"Rohan\", rohan_insurance_cost))\n",
    "estimate_insurance_data.append((\"Valentina\", valentina_insurance_cost))"
   ]
  },
  {
   "cell_type": "code",
   "execution_count": 90,
   "metadata": {},
   "outputs": [
    {
     "name": "stdout",
     "output_type": "stream",
     "text": [
      "Maria's difference insurance cost of Maria: 72.0 dollars.\n",
      "Rohan's difference insurance cost of Maria: 122.0 dollars.\n",
      "Valentina's difference insurance cost of Maria: 1158.0 dollars.\n"
     ]
    }
   ],
   "source": [
    "print(names[0] +\"'s difference insurance cost of Maria:\", (estimate_insurance_data[0][1] - insurance_data[0][1]), \"dollars.\")\n",
    "print(names[1] +\"'s difference insurance cost of Maria:\", (estimate_insurance_data[1][1] - insurance_data[1][1]), \"dollars.\")\n",
    "print(names[2] +\"'s difference insurance cost of Maria:\", (estimate_insurance_data[2][1] - insurance_data[2][1]), \"dollars.\")"
   ]
  },
  {
   "cell_type": "markdown",
   "metadata": {},
   "source": [
    "There are differences between the actual insurance costs and estimated insurance costs. The actual insurance costs seems to be lower than the estimated insurance costs for each of the three individuals.\n",
    "\n",
    "This means that estimated_insurance_cost function does not calculate insurance costs with 100% accuracy. The function might be overestimating the insurance cost."
   ]
  },
  {
   "cell_type": "markdown",
   "metadata": {},
   "source": [
    "### Access the Medical Insurance Records"
   ]
  },
  {
   "cell_type": "code",
   "execution_count": 108,
   "metadata": {},
   "outputs": [
    {
     "name": "stdout",
     "output_type": "stream",
     "text": [
      "There are 11 medical records.\n"
     ]
    }
   ],
   "source": [
    "# List of medical insurance records\n",
    "names = [\"Mohamed\", \"Sara\", \"Xia\", \"Paul\", \"Valentina\", \"Jide\", \"Aaron\", \"Emily\", \"Nikita\", \"Paul\"]\n",
    "insurance_costs = [13262.0, 4816.0, 6839.0, 5054.0, 14724.0, 5360.0, 7640.0, 6072.0, 2750.0, 12064.0]\n",
    "\n",
    "names.append(\"Priscilla\")\n",
    "insurance_costs.append(8320.0)\n",
    "\n",
    "medical_records_names = list(zip(names, insurance_costs))\n",
    "medical_records_cost = list(zip(insurance_costs, names))\n",
    "\n",
    "num_medical_records = len(medical_records)\n",
    "print(\"There are\", num_medical_records, \"medical records.\")"
   ]
  },
  {
   "cell_type": "code",
   "execution_count": 111,
   "metadata": {},
   "outputs": [
    {
     "name": "stdout",
     "output_type": "stream",
     "text": [
      "Here are the medical records sorted by name:\n",
      "[('Aaron', 7640.0), ('Emily', 6072.0), ('Jide', 5360.0), ('Mohamed', 13262.0), ('Nikita', 2750.0), ('Paul', 5054.0), ('Paul', 12064.0), ('Priscilla', 8320.0), ('Sara', 4816.0), ('Valentina', 14724.0), ('Xia', 6839.0)]\n",
      "Here are the medical records sorted by cost:\n",
      "[(2750.0, 'Nikita'), (4816.0, 'Sara'), (5054.0, 'Paul'), (5360.0, 'Jide'), (6072.0, 'Emily'), (6839.0, 'Xia'), (7640.0, 'Aaron'), (8320.0, 'Priscilla'), (12064.0, 'Paul'), (13262.0, 'Mohamed'), (14724.0, 'Valentina')]\n"
     ]
    }
   ],
   "source": [
    "# Sorting Lists\n",
    "medical_records_names.sort()\n",
    "medical_records_cost.sort()\n",
    "print(\"Here are the medical records sorted by name:\")\n",
    "print(medical_records_names)\n",
    "print(\"Here are the medical records sorted by cost:\")\n",
    "print(medical_records_cost)"
   ]
  },
  {
   "cell_type": "code",
   "execution_count": 113,
   "metadata": {},
   "outputs": [
    {
     "name": "stdout",
     "output_type": "stream",
     "text": [
      "The three cheapest insurance costs in our medical records are: [(2750.0, 'Nikita'), (4816.0, 'Sara'), (5054.0, 'Paul')]\n",
      "The three most expensive insurance costs in our medical records are: [(12064.0, 'Paul'), (13262.0, 'Mohamed'), (14724.0, 'Valentina')]\n"
     ]
    }
   ],
   "source": [
    "# Slicing Lists\n",
    "print(\"The three cheapest insurance costs in our medical records are:\", medical_records_cost[:3])\n",
    "print(\"The three most expensive insurance costs in our medical records are:\", medical_records_cost[-3:])"
   ]
  },
  {
   "cell_type": "code",
   "execution_count": 115,
   "metadata": {},
   "outputs": [
    {
     "name": "stdout",
     "output_type": "stream",
     "text": [
      "There are 2 individuals with the name Paul in our medical records.\n"
     ]
    }
   ],
   "source": [
    "# Counting Elements in a List\n",
    "occurences_paul = names.count(\"Paul\")\n",
    "print(\"There are\", occurences_paul, \"individuals with the name Paul in our medical records.\")"
   ]
  },
  {
   "cell_type": "markdown",
   "metadata": {},
   "source": [
    "### Calculating the Average Medical Insurance Costs"
   ]
  },
  {
   "cell_type": "markdown",
   "metadata": {},
   "source": [
    "Three list containing on medical insurance data:\n",
    "- names: stores the names of seven individuals.\n",
    "- estimated_insurance_costs: stores the estimated medical insurance costs for the individuals.\n",
    "- actual_insurance_costs: stores the actual insurance costs paid by the individuals."
   ]
  },
  {
   "cell_type": "code",
   "execution_count": 6,
   "metadata": {},
   "outputs": [],
   "source": [
    "# list of medical insurance data\n",
    "names = [\"Judith\", \"Abel\", \"Tyson\", \"Martha\", \"Beverley\", \"David\", \"Anabel\"]\n",
    "estimated_insurance_costs = [1000.0, 2000.0, 3000.0, 4000.0, 5000.0, 6000.0, 7000.0]\n",
    "actual_insurance_costs = [1100.0, 2200.0, 3300.0, 4400.0, 5500.0, 6600.0, 7700.0]"
   ]
  },
  {
   "cell_type": "code",
   "execution_count": 8,
   "metadata": {},
   "outputs": [
    {
     "name": "stdout",
     "output_type": "stream",
     "text": [
      "The average insurance cost: 4400.0 dollars.\n"
     ]
    }
   ],
   "source": [
    "total_cost = 0\n",
    "\n",
    "for insurance_cost in actual_insurance_costs:\n",
    "    total_cost += insurance_cost\n",
    "\n",
    "average_cost = total_cost / len(actual_insurance_costs)\n",
    "print(\"The average insurance cost:\", average_cost, 'dollars.')"
   ]
  },
  {
   "cell_type": "code",
   "execution_count": 33,
   "metadata": {},
   "outputs": [
    {
     "name": "stdout",
     "output_type": "stream",
     "text": [
      "The insurance cost for Judith is 1100.0 dollars,\n",
      "and the insurance cost for Judith is below average with difference is 3300.0 dollars.\n",
      "\n",
      "The insurance cost for Abel is 2200.0 dollars,\n",
      "and the insurance cost for Abel is below average with difference is 2200.0 dollars.\n",
      "\n",
      "The insurance cost for Tyson is 3300.0 dollars,\n",
      "and the insurance cost for Tyson is below average with difference is 1100.0 dollars.\n",
      "\n",
      "The insurance cost for Martha is 4400.0 dollars,\n",
      "and the insurance cost for Martha is equal to the average.\n",
      "\n",
      "The insurance cost for Beverley is 5500.0 dollars,\n",
      "and the insurance cost for Beverley is above average with difference is 1100.0 dollars.\n",
      "\n",
      "The insurance cost for David is 6600.0 dollars,\n",
      "and the insurance cost for David is above average with difference is 2200.0 dollars.\n",
      "\n",
      "The insurance cost for Anabel is 7700.0 dollars,\n",
      "and the insurance cost for Anabel is above average with difference is 3300.0 dollars.\n",
      "\n"
     ]
    }
   ],
   "source": [
    "for i in range(len(names)):\n",
    "    name = names[i]\n",
    "    insurance_cost = actual_insurance_costs[i]\n",
    "    print(\"The insurance cost for\", name, \"is\", insurance_cost, \"dollars,\")\n",
    "    if insurance_cost > average_cost:\n",
    "        print(\"and the insurance cost for\", name, \"is above average with difference is\", \n",
    "              insurance_cost - average_cost, \"dollars.\\n\")\n",
    "    elif insurance_cost < average_cost:\n",
    "        print(\"and the insurance cost for\", name, \"is below average with difference is\",\n",
    "              average_cost - insurance_cost, \"dollars.\\n\")\n",
    "    else:\n",
    "        print(\"and the insurance cost for\", name, \"is equal to the average.\\n\")"
   ]
  },
  {
   "cell_type": "markdown",
   "metadata": {},
   "source": [
    "Since each of the actual insurance costs are 10% higher than the estimated insurance costs, we need to update the estimated insurance cost."
   ]
  },
  {
   "cell_type": "code",
   "execution_count": 35,
   "metadata": {},
   "outputs": [
    {
     "name": "stdout",
     "output_type": "stream",
     "text": [
      "List of updated estimated insurance cost: [1100.0, 2200.0, 3300.0, 4400.0, 5500.0, 6600.0, 7700.0]\n"
     ]
    }
   ],
   "source": [
    "updated_estimated_costs = [estimated_cost * 11/10 for estimated_cost in estimated_insurance_costs]\n",
    "print(\"List of updated estimated insurance cost:\", updated_estimated_costs)"
   ]
  }
 ],
 "metadata": {
  "kernelspec": {
   "display_name": "Python 3",
   "language": "python",
   "name": "python3"
  },
  "language_info": {
   "codemirror_mode": {
    "name": "ipython",
    "version": 3
   },
   "file_extension": ".py",
   "mimetype": "text/x-python",
   "name": "python",
   "nbconvert_exporter": "python",
   "pygments_lexer": "ipython3",
   "version": "3.8.3"
  }
 },
 "nbformat": 4,
 "nbformat_minor": 4
}
