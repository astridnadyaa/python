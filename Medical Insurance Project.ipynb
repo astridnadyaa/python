{
 "cells": [
  {
   "cell_type": "markdown",
   "metadata": {},
   "source": [
    "### Project Description"
   ]
  },
  {
   "cell_type": "markdown",
   "metadata": {},
   "source": [
    "Calculating a person's medical insurance costs by considering certain factors that contribute to medical insurance costs. Estimation calculations of a person's medical insurance costs that affect the prediction, from datas such as age, sex, BMI, number of children, and if the person is smoking or not."
   ]
  },
  {
   "cell_type": "code",
   "execution_count": 1,
   "metadata": {},
   "outputs": [],
   "source": [
    "# Features that need to be consider when estimating medical insurance costs\n",
    "age = 40\n",
    "sex = 1               ## 0 for female, 1 for male\n",
    "bmi = 25.5\n",
    "num_of_children = 0\n",
    "smoker = 1            ## 0 for a non-smoker, 1 for a smoker"
   ]
  },
  {
   "cell_type": "code",
   "execution_count": 2,
   "metadata": {},
   "outputs": [],
   "source": [
    "# Creating the formula\n",
    "insurance_cost = 250*age - 128*sex + 370*bmi + 425*num_of_children + 24000*smoker - 12500"
   ]
  },
  {
   "cell_type": "code",
   "execution_count": 4,
   "metadata": {},
   "outputs": [
    {
     "name": "stdout",
     "output_type": "stream",
     "text": [
      "This person's insurance cost is 30807.0 dollars.\n"
     ]
    }
   ],
   "source": [
    "print(\"This person's insurance cost is \" + str(insurance_cost) + \" dollars.\")"
   ]
  },
  {
   "cell_type": "markdown",
   "metadata": {},
   "source": [
    "##### >> Looking at changing the age factor affecting to the insurance costs."
   ]
  },
  {
   "cell_type": "code",
   "execution_count": 5,
   "metadata": {},
   "outputs": [],
   "source": [
    "# Changing the age features value\n",
    "age += 4"
   ]
  },
  {
   "cell_type": "code",
   "execution_count": 6,
   "metadata": {},
   "outputs": [
    {
     "data": {
      "text/plain": [
       "44"
      ]
     },
     "execution_count": 6,
     "metadata": {},
     "output_type": "execute_result"
    }
   ],
   "source": [
    "age"
   ]
  },
  {
   "cell_type": "code",
   "execution_count": 7,
   "metadata": {},
   "outputs": [],
   "source": [
    "new_insurance_cost = 250*age - 128*sex + 370*bmi + 425*num_of_children + 24000*smoker - 12500"
   ]
  },
  {
   "cell_type": "code",
   "execution_count": 8,
   "metadata": {},
   "outputs": [
    {
     "name": "stdout",
     "output_type": "stream",
     "text": [
      "This person's insurance cost is 31807.0 dollars.\n"
     ]
    }
   ],
   "source": [
    "print(\"This person's insurance cost is \" + str(new_insurance_cost) + \" dollars.\")"
   ]
  },
  {
   "cell_type": "code",
   "execution_count": 9,
   "metadata": {},
   "outputs": [],
   "source": [
    "change_in_insurance_cost = new_insurance_cost - insurance_cost"
   ]
  },
  {
   "cell_type": "code",
   "execution_count": 10,
   "metadata": {},
   "outputs": [
    {
     "name": "stdout",
     "output_type": "stream",
     "text": [
      "The change in cost of insurance after increasing the age by 4 years is 1000.0 dollars.\n"
     ]
    }
   ],
   "source": [
    "print(\"The change in cost of insurance after increasing the age by 4 years is \" + str(change_in_insurance_cost) + \n",
    "      \" dollars.\")"
   ]
  },
  {
   "cell_type": "markdown",
   "metadata": {},
   "source": [
    "As this person getting older, the medical insurance will cost more."
   ]
  },
  {
   "cell_type": "markdown",
   "metadata": {},
   "source": [
    "##### >> Looking at changing the BMI factor affecting to the insurance costs."
   ]
  },
  {
   "cell_type": "code",
   "execution_count": 11,
   "metadata": {},
   "outputs": [],
   "source": [
    "# set age feature to its original value\n",
    "# change the bmi feature value\n",
    "age = 40\n",
    "bmi += 3.1"
   ]
  },
  {
   "cell_type": "code",
   "execution_count": 12,
   "metadata": {},
   "outputs": [
    {
     "data": {
      "text/plain": [
       "28.6"
      ]
     },
     "execution_count": 12,
     "metadata": {},
     "output_type": "execute_result"
    }
   ],
   "source": [
    "bmi"
   ]
  },
  {
   "cell_type": "code",
   "execution_count": 13,
   "metadata": {},
   "outputs": [],
   "source": [
    "new_insurance_cost = 250*age - 128*sex + 370*bmi + 425*num_of_children + 24000*smoker - 12500"
   ]
  },
  {
   "cell_type": "code",
   "execution_count": 14,
   "metadata": {},
   "outputs": [
    {
     "name": "stdout",
     "output_type": "stream",
     "text": [
      "This person's insurance cost is 31954.0 dollars.\n"
     ]
    }
   ],
   "source": [
    "print(\"This person's insurance cost is \" + str(new_insurance_cost) + \" dollars.\")"
   ]
  },
  {
   "cell_type": "code",
   "execution_count": 15,
   "metadata": {},
   "outputs": [],
   "source": [
    "change_in_insurance_cost = new_insurance_cost - insurance_cost"
   ]
  },
  {
   "cell_type": "code",
   "execution_count": 16,
   "metadata": {},
   "outputs": [
    {
     "name": "stdout",
     "output_type": "stream",
     "text": [
      "The change in estimated insurance cost after increasing BMI by 3.1 is 1147.0 dollars.\n"
     ]
    }
   ],
   "source": [
    "print(\"The change in estimated insurance cost after increasing BMI by 3.1 is \" + str(change_in_insurance_cost) + \n",
    "      \" dollars.\")"
   ]
  },
  {
   "cell_type": "markdown",
   "metadata": {},
   "source": [
    "Change in BMI factor affecting the medical insurance cost. As in this example the BMI values increasing, so does the medical insurance cost is. The insurance cost increasing by 1147.0 dollars."
   ]
  },
  {
   "cell_type": "markdown",
   "metadata": {},
   "source": [
    "##### >> Looking at the gender factor affecting the medical insurance costs."
   ]
  },
  {
   "cell_type": "code",
   "execution_count": 17,
   "metadata": {},
   "outputs": [],
   "source": [
    "# set the bmi feature to its orginal value\n",
    "# changing the sex feature value\n",
    "bmi = 25.5\n",
    "sex = 0"
   ]
  },
  {
   "cell_type": "code",
   "execution_count": 18,
   "metadata": {},
   "outputs": [],
   "source": [
    "new_insurance_cost = 250*age - 128*sex + 370*bmi + 425*num_of_children + 24000*smoker - 12500"
   ]
  },
  {
   "cell_type": "code",
   "execution_count": 19,
   "metadata": {},
   "outputs": [
    {
     "name": "stdout",
     "output_type": "stream",
     "text": [
      "This person's insurance cost is 30935.0 dollars.\n"
     ]
    }
   ],
   "source": [
    "print(\"This person's insurance cost is \" + str(new_insurance_cost) + \" dollars.\")"
   ]
  },
  {
   "cell_type": "code",
   "execution_count": 20,
   "metadata": {},
   "outputs": [],
   "source": [
    "change_in_insurance_cost = new_insurance_cost - insurance_cost"
   ]
  },
  {
   "cell_type": "code",
   "execution_count": 21,
   "metadata": {},
   "outputs": [
    {
     "name": "stdout",
     "output_type": "stream",
     "text": [
      "The change in estimated insurance cost for being female instead of male is 128.0 dollars.\n"
     ]
    }
   ],
   "source": [
    "print(\"The change in estimated insurance cost for being female instead of male is \" + str(change_in_insurance_cost) + \n",
    "      \" dollars.\")"
   ]
  },
  {
   "cell_type": "markdown",
   "metadata": {},
   "source": [
    "The result by changing gender showed that men tend to have lower medical costs on average than women."
   ]
  },
  {
   "cell_type": "markdown",
   "metadata": {},
   "source": [
    "##### >> Looking at the smoking factor affecting the medical insurance costs."
   ]
  },
  {
   "cell_type": "code",
   "execution_count": 23,
   "metadata": {},
   "outputs": [],
   "source": [
    "# set the sex feature values to its original\n",
    "# change the smoker value\n",
    "sex = 1\n",
    "smoker = 0"
   ]
  },
  {
   "cell_type": "code",
   "execution_count": 24,
   "metadata": {},
   "outputs": [],
   "source": [
    "new_insurance_cost = 250*age - 128*sex + 370*bmi + 425*num_of_children + 24000*smoker - 12500"
   ]
  },
  {
   "cell_type": "code",
   "execution_count": 25,
   "metadata": {},
   "outputs": [
    {
     "name": "stdout",
     "output_type": "stream",
     "text": [
      "This person's insurance cost is 6807.0 dollars.\n"
     ]
    }
   ],
   "source": [
    "print(\"This person's insurance cost is \" + str(new_insurance_cost) + \" dollars.\")"
   ]
  },
  {
   "cell_type": "code",
   "execution_count": 26,
   "metadata": {},
   "outputs": [],
   "source": [
    "change_in_insurance_cost = new_insurance_cost - insurance_cost"
   ]
  },
  {
   "cell_type": "code",
   "execution_count": 27,
   "metadata": {},
   "outputs": [
    {
     "name": "stdout",
     "output_type": "stream",
     "text": [
      "The change in estimated insurance cost for being female instead of male is -24000.0 dollars.\n"
     ]
    }
   ],
   "source": [
    "print(\"The change in estimated insurance cost for being female instead of male is \" + str(change_in_insurance_cost) + \n",
    "      \" dollars.\")"
   ]
  },
  {
   "cell_type": "markdown",
   "metadata": {},
   "source": [
    "If this person is not smoking resulting the insurance cost around 6807.0 dollars, way cheaper that if the person is smoking. As seen the change result is around 24000 dollars which will save lot of cost of medical insurance."
   ]
  },
  {
   "cell_type": "markdown",
   "metadata": {},
   "source": [
    "### Using function to Calculate the Medical Insurance Costs"
   ]
  },
  {
   "cell_type": "code",
   "execution_count": 2,
   "metadata": {},
   "outputs": [],
   "source": [
    "def calculate_insurance_cost(name, age, sex, bmi, num_of_children, smoker):\n",
    "    estimated_cost = 250*age - 128*sex + 370*bmi + 425*num_of_children + 24000*smoker - 12500\n",
    "    print(\"The estimated insurance cost for \" + name + \" is \"+ str(estimated_cost) + \" dollars.\")\n",
    "    return estimated_cost"
   ]
  },
  {
   "cell_type": "code",
   "execution_count": 4,
   "metadata": {},
   "outputs": [
    {
     "name": "stdout",
     "output_type": "stream",
     "text": [
      "The estimated insurance cost for me is 5490 dollars.\n"
     ]
    }
   ],
   "source": [
    "me_insurance_cost = calculate_insurance_cost(name= \"me\", age=32, sex=0, bmi=27, num_of_children=0, smoker=0)"
   ]
  }
 ],
 "metadata": {
  "kernelspec": {
   "display_name": "Python 3",
   "language": "python",
   "name": "python3"
  },
  "language_info": {
   "codemirror_mode": {
    "name": "ipython",
    "version": 3
   },
   "file_extension": ".py",
   "mimetype": "text/x-python",
   "name": "python",
   "nbconvert_exporter": "python",
   "pygments_lexer": "ipython3",
   "version": "3.8.3"
  }
 },
 "nbformat": 4,
 "nbformat_minor": 4
}
